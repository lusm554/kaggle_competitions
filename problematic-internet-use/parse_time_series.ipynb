{
 "cells": [
  {
   "cell_type": "markdown",
   "id": "6ad082ec",
   "metadata": {},
   "source": [
    "# Import"
   ]
  },
  {
   "cell_type": "code",
   "execution_count": 1,
   "id": "25ed0d2a",
   "metadata": {
    "execution": {
     "iopub.execute_input": "2024-10-24T13:02:49.133937Z",
     "iopub.status.busy": "2024-10-24T13:02:49.133476Z",
     "iopub.status.idle": "2024-10-24T13:02:54.149616Z",
     "shell.execute_reply": "2024-10-24T13:02:54.148268Z",
     "shell.execute_reply.started": "2024-10-24T13:02:49.133871Z"
    }
   },
   "outputs": [],
   "source": [
    "from pathlib import Path\n",
    "import pandas as pd\n",
    "import numpy as np\n",
    "from sklearn.metrics import cohen_kappa_score, classification_report, make_scorer\n",
    "from sklearn.impute import SimpleImputer, KNNImputer\n",
    "from sklearn.preprocessing import OrdinalEncoder, StandardScaler, OneHotEncoder, Normalizer, MinMaxScaler, RobustScaler, MaxAbsScaler\n",
    "from sklearn.model_selection import train_test_split, cross_validate, StratifiedShuffleSplit\n",
    "from sklearn.pipeline import Pipeline\n",
    "from sklearn.compose import ColumnTransformer\n",
    "from catboost import CatBoostClassifier\n",
    "import seaborn as sns\n",
    "import datetime\n",
    "import pandas as pd\n",
    "from concurrent.futures import ThreadPoolExecutor, ProcessPoolExecutor\n",
    "from tqdm import tqdm\n",
    "import os, gc\n",
    "\n",
    "pd.set_option('display.max_rows', 500)\n",
    "random_state = 42\n",
    "np.random.seed(random_state)\n",
    "# data_filepath = Path('./data')\n",
    "data_filepath = Path('/kaggle/input/child-mind-institute-problematic-internet-use')\n",
    "KAPPA_SCORER = make_scorer(\n",
    "    cohen_kappa_score,\n",
    "    greater_is_better=True,\n",
    "    weights='quadratic',\n",
    ")"
   ]
  },
  {
   "cell_type": "markdown",
   "id": "9631974a",
   "metadata": {},
   "source": [
    "# Data"
   ]
  },
  {
   "cell_type": "code",
   "execution_count": 2,
   "id": "dc87b171",
   "metadata": {
    "execution": {
     "iopub.execute_input": "2024-10-24T13:04:13.525768Z",
     "iopub.status.busy": "2024-10-24T13:04:13.525076Z",
     "iopub.status.idle": "2024-10-24T13:04:17.419688Z",
     "shell.execute_reply": "2024-10-24T13:04:17.418047Z",
     "shell.execute_reply.started": "2024-10-24T13:04:13.525721Z"
    }
   },
   "outputs": [
    {
     "name": "stdout",
     "output_type": "stream",
     "text": [
      "12K\t/kaggle/input/child-mind-institute-problematic-internet-use/data_dictionary.csv\n",
      "4.0K\t/kaggle/input/child-mind-institute-problematic-internet-use/sample_submission.csv\n",
      "8.0M\t/kaggle/input/child-mind-institute-problematic-internet-use/series_test.parquet\n",
      "6.3G\t/kaggle/input/child-mind-institute-problematic-internet-use/series_train.parquet\n",
      "8.0K\t/kaggle/input/child-mind-institute-problematic-internet-use/test.csv\n",
      "924K\t/kaggle/input/child-mind-institute-problematic-internet-use/train.csv\n"
     ]
    },
    {
     "data": {
      "text/plain": [
       "((3960, 82), (20, 59))"
      ]
     },
     "execution_count": 2,
     "metadata": {},
     "output_type": "execute_result"
    }
   ],
   "source": [
    "!du -hs $data_filepath/*\n",
    "train_df = pd.read_csv(data_filepath / 'train.csv')\n",
    "test_df = pd.read_csv(data_filepath / 'test.csv')\n",
    "train_df.shape, test_df.shape"
   ]
  },
  {
   "cell_type": "markdown",
   "id": "289e5023",
   "metadata": {},
   "source": []
  },
  {
   "cell_type": "code",
   "execution_count": 3,
   "id": "ef973f42",
   "metadata": {
    "execution": {
     "iopub.execute_input": "2024-10-24T13:04:18.419096Z",
     "iopub.status.busy": "2024-10-24T13:04:18.418590Z",
     "iopub.status.idle": "2024-10-24T13:04:18.446996Z",
     "shell.execute_reply": "2024-10-24T13:04:18.445555Z",
     "shell.execute_reply.started": "2024-10-24T13:04:18.419048Z"
    }
   },
   "outputs": [
    {
     "data": {
      "text/plain": [
       "(996, 996)"
      ]
     },
     "execution_count": 3,
     "metadata": {},
     "output_type": "execute_result"
    }
   ],
   "source": [
    "parquet_partitions = list((data_filepath / 'series_train.parquet').glob('id=*'))\n",
    "len(parquet_partitions), len(set(str(c).split('=')[1] for c in parquet_partitions) & set(train_df.id))"
   ]
  },
  {
   "cell_type": "markdown",
   "id": "73642466",
   "metadata": {},
   "source": [
    "# Cudf slow way"
   ]
  },
  {
   "cell_type": "code",
   "execution_count": 18,
   "id": "d6ee9df8",
   "metadata": {
    "execution": {
     "iopub.execute_input": "2024-10-24T13:06:51.525808Z",
     "iopub.status.busy": "2024-10-24T13:06:51.525060Z",
     "iopub.status.idle": "2024-10-24T13:06:51.537163Z",
     "shell.execute_reply": "2024-10-24T13:06:51.535736Z",
     "shell.execute_reply.started": "2024-10-24T13:06:51.525757Z"
    }
   },
   "outputs": [],
   "source": [
    "# def convert_ts_to_row(ts):\n",
    "#     agg_cols = ['X', 'Y', 'Z', 'enmo', 'anglez', 'light', 'battery_voltage']\n",
    "#     onerow = ts[agg_cols].astype(float).agg(['min', 'max', 'std', 'mean', 'median']).unstack().to_frame().T\n",
    "#     onerow.columns = ['_'.join(c) for c in onerow.columns]\n",
    "#     return onerow\n",
    "\n",
    "# def handle_parquet_partition(partition_filepath): \n",
    "#     user_id = str(partition_filepath).split('=')[-1]\n",
    "# #     ts_df = pd.read_parquet(partition_filepath)\n",
    "#     ts_df = cudf.read_parquet(partition_filepath)\n",
    "#     ts_onerow = convert_ts_to_row(ts_df)\n",
    "#     ts_onerow['id'] = user_id\n",
    "    \n",
    "#     ts_df['day_hour'] = ts_df.time_of_day.apply(lambda x: (x // 10**9) // 3600)\n",
    "#     ts_df['week'] = ts_df['relative_date_PCIAT'] // 7 + 1\n",
    "#     ts_df['month'] = ts_df['relative_date_PCIAT'] // 30 + 1\n",
    "    \n",
    "#     # Количество периодов без движения\n",
    "#     # Count of periods without activity\n",
    "#     ts_onerow['total_inactivity_periods'] = ts_df[ts_df.enmo == 0].enmo.count()\n",
    "    \n",
    "#     # Среднее количество часов активности в день\n",
    "#     # Avg hours of activity per day\n",
    "#     cnt_of_active_hours = ts_df[(ts_df['non-wear_flag'] == 0) & (ts_df.enmo > 0)].drop_duplicates(['relative_date_PCIAT', 'day_hour']).day_hour.count()\n",
    "#     cnt_of_days = len(ts_df['relative_date_PCIAT'].unique())\n",
    "#     ts_onerow['avg_active_hours_per_day'] = (cnt_of_active_hours or 1) / (cnt_of_days or 1)\n",
    "    \n",
    "#     # weekend flag\n",
    "#     ts_onerow['weekend_flag'] = ts_df.weekday.isin([6,7]).astype(int)\n",
    "    \n",
    "#     # Hour of pick activity\n",
    "#     # Пиковое время активности для клиента\n",
    "#     peak_hour_of_activity = ts_df[(ts_df['non-wear_flag'] == 0) & (ts_df.enmo > 0)].groupby([ts_df['day_hour']]).enmo.count()\n",
    "#     ts_onerow['peak_hour_of_activity'] = peak_hour_of_activity.sort_values(ascending=False).index[0]\n",
    "    \n",
    "#     activity_mask = (ts_df['non-wear_flag'] == 0) & (ts_df.enmo > 0)\n",
    "\n",
    "#     # Relation of activity in weekday and weekend\n",
    "#     # Соотношение активности будни/выходные\n",
    "#     weekday_activity = ts_df[activity_mask & (~ts_df.weekday.isin([6,7]))].drop_duplicates().enmo.count()\n",
    "#     weekend_activity = ts_df[activity_mask & (ts_df.weekday.isin([6,7]))].drop_duplicates().enmo.count()\n",
    "#     ts_onerow['weekday_weekend_activity_ratio'] = (weekday_activity or 1) / (weekend_activity or 1)\n",
    "    \n",
    "#     # Activity in differentn parts of day\n",
    "#     # Активность в разные части дня\n",
    "#     night_mask = (ts_df.day_hour > 0) & (ts_df.day_hour <= 6)\n",
    "#     morning_mask = (ts_df.day_hour > 6) & (ts_df.day_hour <= 12)\n",
    "#     day_mask = (ts_df.day_hour > 12) & (ts_df.day_hour <= 18)\n",
    "#     evening_mask = (ts_df.day_hour > 18) & ((ts_df.day_hour <= 23) | (ts_df.day_hour == 0))\n",
    "    \n",
    "#     ts_onerow['night_activity'] = ts_df[activity_mask & night_mask].drop_duplicates().enmo.count()\n",
    "#     ts_onerow['morning_activity'] = ts_df[activity_mask & morning_mask].drop_duplicates().enmo.count()\n",
    "#     ts_onerow['day_activity'] = ts_df[activity_mask & day_mask].drop_duplicates().enmo.count()\n",
    "#     ts_onerow['evening_activity'] = ts_df[activity_mask & evening_mask].drop_duplicates().enmo.count()\n",
    "    \n",
    "#     # Total time of device wear\n",
    "#     # Общее время ношения устройства\n",
    "#     ts_onerow['cnt_of_device_wearing_hours'] = ts_df[(ts_df['non-wear_flag'] == 0)].drop_duplicates(['relative_date_PCIAT', 'day_hour']).day_hour.count()\n",
    "\n",
    "#     # Relation of wearing / no wearing device\n",
    "#     # Соотношение ношения/не ношения устройства\n",
    "#     cnt_of_device_wearing_hours = ts_df[(ts_df['non-wear_flag'] == 0)].drop_duplicates(['relative_date_PCIAT', 'day_hour']).day_hour.count()\n",
    "#     cnt_of_device_no_wearing_hours = ts_df[(ts_df['non-wear_flag'] == 1)].drop_duplicates(['relative_date_PCIAT', 'day_hour']).day_hour.count()\n",
    "#     ts_onerow['relation_of_wearnig_no_wearing'] = (cnt_of_device_wearing_hours or 1) / (cnt_of_device_no_wearing_hours or 1)\n",
    "    \n",
    "#     # Before / after PCIAT test activitys\n",
    "#     # Активность до и после теста PCIAT\n",
    "#     activity_mask = (ts_df['non-wear_flag'] == 0) & (ts_df.enmo > 0)\n",
    "#     pciat_period_mask = ts_df['relative_date_PCIAT'] >= 0\n",
    "#     pciat_period_activity = ts_df[activity_mask & pciat_period_mask].drop_duplicates().enmo.count()\n",
    "#     pre_pciat_period_activity = ts_df[activity_mask & (~pciat_period_mask)].drop_duplicates().enmo.count()\n",
    "#     ts_onerow['pciat_period_activity'] = pciat_period_activity\n",
    "#     ts_onerow['pre_pciat_period_activity'] = pre_pciat_period_activity\n",
    "    \n",
    "#     # Relation before / after PCIAT test activitys\n",
    "#     # Соотношение активность до и после теста PCIAT\n",
    "#     ts_onerow['relation_pre_pciat_period_activity'] = (pciat_period_activity or 1) / (pre_pciat_period_activity or 1)\n",
    "#     return ts_onerow\n",
    "\n",
    "# with ThreadPoolExecutor(max_workers=os.cpu_count() * 2) as executor:\n",
    "#     results = list(tqdm(executor.map(lambda fpath: handle_parquet_partition(fpath), parquet_partitions), total=len(parquet_partitions)))\n",
    "# ts_input = cudf.concat(results).to_pandas(); del results; gc.collect()\n",
    "# ts_input"
   ]
  },
  {
   "cell_type": "markdown",
   "id": "4810ef72",
   "metadata": {},
   "source": [
    "# Cpu parse time series"
   ]
  },
  {
   "cell_type": "code",
   "execution_count": 4,
   "id": "8d9c1e5d",
   "metadata": {
    "execution": {
     "iopub.execute_input": "2024-10-24T13:04:28.616527Z",
     "iopub.status.busy": "2024-10-24T13:04:28.616061Z",
     "iopub.status.idle": "2024-10-24T13:04:38.639727Z",
     "shell.execute_reply": "2024-10-24T13:04:38.638513Z",
     "shell.execute_reply.started": "2024-10-24T13:04:28.616485Z"
    }
   },
   "outputs": [
    {
     "name": "stderr",
     "output_type": "stream",
     "text": [
      "100%|██████████| 10/10 [00:09<00:00,  1.02it/s]"
     ]
    },
    {
     "name": "stdout",
     "output_type": "stream",
     "text": [
      "0.0030994415283203125\n",
      "CPU times: user 13.9 s, sys: 1.98 s, total: 15.9 s\n",
      "Wall time: 9.96 s\n"
     ]
    },
    {
     "name": "stderr",
     "output_type": "stream",
     "text": [
      "\n"
     ]
    },
    {
     "data": {
      "text/html": [
       "<div>\n",
       "<style scoped>\n",
       "    .dataframe tbody tr th:only-of-type {\n",
       "        vertical-align: middle;\n",
       "    }\n",
       "\n",
       "    .dataframe tbody tr th {\n",
       "        vertical-align: top;\n",
       "    }\n",
       "\n",
       "    .dataframe thead th {\n",
       "        text-align: right;\n",
       "    }\n",
       "</style>\n",
       "<table border=\"1\" class=\"dataframe\">\n",
       "  <thead>\n",
       "    <tr style=\"text-align: right;\">\n",
       "      <th></th>\n",
       "      <th>X_min</th>\n",
       "      <th>X_max</th>\n",
       "      <th>X_std</th>\n",
       "      <th>X_mean</th>\n",
       "      <th>X_median</th>\n",
       "      <th>Y_min</th>\n",
       "      <th>Y_max</th>\n",
       "      <th>Y_std</th>\n",
       "      <th>Y_mean</th>\n",
       "      <th>Y_median</th>\n",
       "      <th>...</th>\n",
       "      <th>weekday_weekend_activity_ratio</th>\n",
       "      <th>night_activity</th>\n",
       "      <th>morning_activity</th>\n",
       "      <th>day_activity</th>\n",
       "      <th>evening_activity</th>\n",
       "      <th>cnt_of_device_wearing_hours</th>\n",
       "      <th>relation_of_wearnig_no_wearing</th>\n",
       "      <th>pciat_period_activity</th>\n",
       "      <th>pre_pciat_period_activity</th>\n",
       "      <th>relation_pre_pciat_period_activity</th>\n",
       "    </tr>\n",
       "  </thead>\n",
       "  <tbody>\n",
       "    <tr>\n",
       "      <th>0</th>\n",
       "      <td>-1.812031</td>\n",
       "      <td>1.850391</td>\n",
       "      <td>0.633126</td>\n",
       "      <td>-0.054638</td>\n",
       "      <td>0.015846</td>\n",
       "      <td>-2.631380</td>\n",
       "      <td>3.580182</td>\n",
       "      <td>0.513286</td>\n",
       "      <td>-0.163923</td>\n",
       "      <td>-0.141810</td>\n",
       "      <td>...</td>\n",
       "      <td>2.211408</td>\n",
       "      <td>2774</td>\n",
       "      <td>12428</td>\n",
       "      <td>19762</td>\n",
       "      <td>13853</td>\n",
       "      <td>230</td>\n",
       "      <td>230.000000</td>\n",
       "      <td>49263</td>\n",
       "      <td>0</td>\n",
       "      <td>49263.0</td>\n",
       "    </tr>\n",
       "    <tr>\n",
       "      <th>0</th>\n",
       "      <td>-1.807955</td>\n",
       "      <td>1.928769</td>\n",
       "      <td>0.507897</td>\n",
       "      <td>0.113277</td>\n",
       "      <td>0.094074</td>\n",
       "      <td>-2.887664</td>\n",
       "      <td>3.234613</td>\n",
       "      <td>0.541129</td>\n",
       "      <td>0.093139</td>\n",
       "      <td>0.068143</td>\n",
       "      <td>...</td>\n",
       "      <td>2.998863</td>\n",
       "      <td>63927</td>\n",
       "      <td>73024</td>\n",
       "      <td>79628</td>\n",
       "      <td>60441</td>\n",
       "      <td>457</td>\n",
       "      <td>17.576923</td>\n",
       "      <td>288450</td>\n",
       "      <td>0</td>\n",
       "      <td>288450.0</td>\n",
       "    </tr>\n",
       "    <tr>\n",
       "      <th>0</th>\n",
       "      <td>-1.903281</td>\n",
       "      <td>1.021510</td>\n",
       "      <td>0.454021</td>\n",
       "      <td>-0.499738</td>\n",
       "      <td>-0.644505</td>\n",
       "      <td>-3.150104</td>\n",
       "      <td>1.016589</td>\n",
       "      <td>0.510668</td>\n",
       "      <td>0.046381</td>\n",
       "      <td>0.088542</td>\n",
       "      <td>...</td>\n",
       "      <td>1918.550000</td>\n",
       "      <td>7653</td>\n",
       "      <td>10960</td>\n",
       "      <td>14441</td>\n",
       "      <td>5231</td>\n",
       "      <td>112</td>\n",
       "      <td>112.000000</td>\n",
       "      <td>38391</td>\n",
       "      <td>0</td>\n",
       "      <td>38391.0</td>\n",
       "    </tr>\n",
       "    <tr>\n",
       "      <th>0</th>\n",
       "      <td>-1.684624</td>\n",
       "      <td>5.908000</td>\n",
       "      <td>0.586100</td>\n",
       "      <td>0.007430</td>\n",
       "      <td>0.022344</td>\n",
       "      <td>-2.405738</td>\n",
       "      <td>2.083693</td>\n",
       "      <td>0.542189</td>\n",
       "      <td>0.007583</td>\n",
       "      <td>0.009674</td>\n",
       "      <td>...</td>\n",
       "      <td>1.717158</td>\n",
       "      <td>19105</td>\n",
       "      <td>80538</td>\n",
       "      <td>83177</td>\n",
       "      <td>35178</td>\n",
       "      <td>527</td>\n",
       "      <td>527.000000</td>\n",
       "      <td>220424</td>\n",
       "      <td>0</td>\n",
       "      <td>220424.0</td>\n",
       "    </tr>\n",
       "    <tr>\n",
       "      <th>0</th>\n",
       "      <td>-1.675859</td>\n",
       "      <td>3.231563</td>\n",
       "      <td>0.509845</td>\n",
       "      <td>0.086653</td>\n",
       "      <td>0.053034</td>\n",
       "      <td>-1.071042</td>\n",
       "      <td>1.033620</td>\n",
       "      <td>0.494897</td>\n",
       "      <td>-0.115162</td>\n",
       "      <td>-0.087422</td>\n",
       "      <td>...</td>\n",
       "      <td>1.382613</td>\n",
       "      <td>1442</td>\n",
       "      <td>1704</td>\n",
       "      <td>5582</td>\n",
       "      <td>5743</td>\n",
       "      <td>122</td>\n",
       "      <td>122.000000</td>\n",
       "      <td>14553</td>\n",
       "      <td>0</td>\n",
       "      <td>14553.0</td>\n",
       "    </tr>\n",
       "    <tr>\n",
       "      <th>0</th>\n",
       "      <td>-2.072290</td>\n",
       "      <td>1.960013</td>\n",
       "      <td>0.575908</td>\n",
       "      <td>0.031407</td>\n",
       "      <td>0.007387</td>\n",
       "      <td>-2.814025</td>\n",
       "      <td>2.246533</td>\n",
       "      <td>0.496323</td>\n",
       "      <td>0.066393</td>\n",
       "      <td>0.037431</td>\n",
       "      <td>...</td>\n",
       "      <td>2.481995</td>\n",
       "      <td>59074</td>\n",
       "      <td>73963</td>\n",
       "      <td>80220</td>\n",
       "      <td>60297</td>\n",
       "      <td>456</td>\n",
       "      <td>4.470588</td>\n",
       "      <td>284862</td>\n",
       "      <td>0</td>\n",
       "      <td>284862.0</td>\n",
       "    </tr>\n",
       "    <tr>\n",
       "      <th>0</th>\n",
       "      <td>-1.541927</td>\n",
       "      <td>0.981914</td>\n",
       "      <td>0.513974</td>\n",
       "      <td>-0.344942</td>\n",
       "      <td>-0.479531</td>\n",
       "      <td>-2.442031</td>\n",
       "      <td>0.997865</td>\n",
       "      <td>0.406852</td>\n",
       "      <td>0.017493</td>\n",
       "      <td>0.065996</td>\n",
       "      <td>...</td>\n",
       "      <td>13699.000000</td>\n",
       "      <td>2446</td>\n",
       "      <td>4253</td>\n",
       "      <td>4288</td>\n",
       "      <td>2278</td>\n",
       "      <td>25</td>\n",
       "      <td>25.000000</td>\n",
       "      <td>13699</td>\n",
       "      <td>0</td>\n",
       "      <td>13699.0</td>\n",
       "    </tr>\n",
       "    <tr>\n",
       "      <th>0</th>\n",
       "      <td>-2.284167</td>\n",
       "      <td>2.065781</td>\n",
       "      <td>0.618117</td>\n",
       "      <td>0.135211</td>\n",
       "      <td>0.260742</td>\n",
       "      <td>-3.849088</td>\n",
       "      <td>3.578021</td>\n",
       "      <td>0.519876</td>\n",
       "      <td>0.013214</td>\n",
       "      <td>0.007083</td>\n",
       "      <td>...</td>\n",
       "      <td>3.251249</td>\n",
       "      <td>4214</td>\n",
       "      <td>26075</td>\n",
       "      <td>35994</td>\n",
       "      <td>26419</td>\n",
       "      <td>249</td>\n",
       "      <td>249.000000</td>\n",
       "      <td>95279</td>\n",
       "      <td>0</td>\n",
       "      <td>95279.0</td>\n",
       "    </tr>\n",
       "    <tr>\n",
       "      <th>0</th>\n",
       "      <td>-2.004243</td>\n",
       "      <td>1.113939</td>\n",
       "      <td>0.468443</td>\n",
       "      <td>-0.489235</td>\n",
       "      <td>-0.640694</td>\n",
       "      <td>-1.691234</td>\n",
       "      <td>1.546270</td>\n",
       "      <td>0.451332</td>\n",
       "      <td>-0.018764</td>\n",
       "      <td>-0.018557</td>\n",
       "      <td>...</td>\n",
       "      <td>4.211699</td>\n",
       "      <td>11839</td>\n",
       "      <td>101812</td>\n",
       "      <td>99023</td>\n",
       "      <td>38811</td>\n",
       "      <td>630</td>\n",
       "      <td>630.000000</td>\n",
       "      <td>252241</td>\n",
       "      <td>0</td>\n",
       "      <td>252241.0</td>\n",
       "    </tr>\n",
       "    <tr>\n",
       "      <th>0</th>\n",
       "      <td>-2.195360</td>\n",
       "      <td>1.565700</td>\n",
       "      <td>0.500070</td>\n",
       "      <td>-0.307811</td>\n",
       "      <td>-0.417052</td>\n",
       "      <td>-3.611804</td>\n",
       "      <td>1.610933</td>\n",
       "      <td>0.429974</td>\n",
       "      <td>0.023515</td>\n",
       "      <td>-0.011621</td>\n",
       "      <td>...</td>\n",
       "      <td>2.896488</td>\n",
       "      <td>79188</td>\n",
       "      <td>90616</td>\n",
       "      <td>90143</td>\n",
       "      <td>70434</td>\n",
       "      <td>517</td>\n",
       "      <td>12.309524</td>\n",
       "      <td>343756</td>\n",
       "      <td>0</td>\n",
       "      <td>343756.0</td>\n",
       "    </tr>\n",
       "  </tbody>\n",
       "</table>\n",
       "<p>10 rows × 50 columns</p>\n",
       "</div>"
      ],
      "text/plain": [
       "      X_min     X_max     X_std    X_mean  X_median     Y_min     Y_max  \\\n",
       "0 -1.812031  1.850391  0.633126 -0.054638  0.015846 -2.631380  3.580182   \n",
       "0 -1.807955  1.928769  0.507897  0.113277  0.094074 -2.887664  3.234613   \n",
       "0 -1.903281  1.021510  0.454021 -0.499738 -0.644505 -3.150104  1.016589   \n",
       "0 -1.684624  5.908000  0.586100  0.007430  0.022344 -2.405738  2.083693   \n",
       "0 -1.675859  3.231563  0.509845  0.086653  0.053034 -1.071042  1.033620   \n",
       "0 -2.072290  1.960013  0.575908  0.031407  0.007387 -2.814025  2.246533   \n",
       "0 -1.541927  0.981914  0.513974 -0.344942 -0.479531 -2.442031  0.997865   \n",
       "0 -2.284167  2.065781  0.618117  0.135211  0.260742 -3.849088  3.578021   \n",
       "0 -2.004243  1.113939  0.468443 -0.489235 -0.640694 -1.691234  1.546270   \n",
       "0 -2.195360  1.565700  0.500070 -0.307811 -0.417052 -3.611804  1.610933   \n",
       "\n",
       "      Y_std    Y_mean  Y_median  ...  weekday_weekend_activity_ratio  \\\n",
       "0  0.513286 -0.163923 -0.141810  ...                        2.211408   \n",
       "0  0.541129  0.093139  0.068143  ...                        2.998863   \n",
       "0  0.510668  0.046381  0.088542  ...                     1918.550000   \n",
       "0  0.542189  0.007583  0.009674  ...                        1.717158   \n",
       "0  0.494897 -0.115162 -0.087422  ...                        1.382613   \n",
       "0  0.496323  0.066393  0.037431  ...                        2.481995   \n",
       "0  0.406852  0.017493  0.065996  ...                    13699.000000   \n",
       "0  0.519876  0.013214  0.007083  ...                        3.251249   \n",
       "0  0.451332 -0.018764 -0.018557  ...                        4.211699   \n",
       "0  0.429974  0.023515 -0.011621  ...                        2.896488   \n",
       "\n",
       "   night_activity  morning_activity  day_activity  evening_activity  \\\n",
       "0            2774             12428         19762             13853   \n",
       "0           63927             73024         79628             60441   \n",
       "0            7653             10960         14441              5231   \n",
       "0           19105             80538         83177             35178   \n",
       "0            1442              1704          5582              5743   \n",
       "0           59074             73963         80220             60297   \n",
       "0            2446              4253          4288              2278   \n",
       "0            4214             26075         35994             26419   \n",
       "0           11839            101812         99023             38811   \n",
       "0           79188             90616         90143             70434   \n",
       "\n",
       "   cnt_of_device_wearing_hours  relation_of_wearnig_no_wearing  \\\n",
       "0                          230                      230.000000   \n",
       "0                          457                       17.576923   \n",
       "0                          112                      112.000000   \n",
       "0                          527                      527.000000   \n",
       "0                          122                      122.000000   \n",
       "0                          456                        4.470588   \n",
       "0                           25                       25.000000   \n",
       "0                          249                      249.000000   \n",
       "0                          630                      630.000000   \n",
       "0                          517                       12.309524   \n",
       "\n",
       "   pciat_period_activity  pre_pciat_period_activity  \\\n",
       "0                  49263                          0   \n",
       "0                 288450                          0   \n",
       "0                  38391                          0   \n",
       "0                 220424                          0   \n",
       "0                  14553                          0   \n",
       "0                 284862                          0   \n",
       "0                  13699                          0   \n",
       "0                  95279                          0   \n",
       "0                 252241                          0   \n",
       "0                 343756                          0   \n",
       "\n",
       "   relation_pre_pciat_period_activity  \n",
       "0                             49263.0  \n",
       "0                            288450.0  \n",
       "0                             38391.0  \n",
       "0                            220424.0  \n",
       "0                             14553.0  \n",
       "0                            284862.0  \n",
       "0                             13699.0  \n",
       "0                             95279.0  \n",
       "0                            252241.0  \n",
       "0                            343756.0  \n",
       "\n",
       "[10 rows x 50 columns]"
      ]
     },
     "execution_count": 4,
     "metadata": {},
     "output_type": "execute_result"
    }
   ],
   "source": [
    "%%time\n",
    "def parse_time_of_day(nanoseconds):\n",
    "    seconds = nanoseconds // 10**9\n",
    "    nanoseconds_remainder = nanoseconds % 10**9\n",
    "    time_of_day = datetime.timedelta(seconds=seconds)\n",
    "    hours, remainder = divmod(time_of_day.seconds, 3600)\n",
    "    minutes, seconds = divmod(remainder, 60)\n",
    "#     formatted_time = f\"{hours:02}:{minutes:02}:{seconds:02}.{nanoseconds_remainder:09}\"\n",
    "    return hours, minutes, seconds, nanoseconds_remainder\n",
    "\n",
    "def convert_ts_to_row(ts):\n",
    "    agg_cols = ['X', 'Y', 'Z', 'enmo', 'anglez', 'light', 'battery_voltage']\n",
    "    onerow = ts[agg_cols].agg(['min', 'max', 'std', 'mean', 'median']).unstack().to_frame().T\n",
    "    onerow.columns = ['_'.join(c) for c in onerow.columns]\n",
    "    return onerow\n",
    "\n",
    "def handle_parquet_partition(partition_filepath):\n",
    "    user_id = str(partition_filepath).split('=')[-1]\n",
    "    ts_df = pd.read_parquet(partition_filepath)\n",
    "    ts_onerow = convert_ts_to_row(ts_df)\n",
    "    ts_onerow['id'] = user_id\n",
    "    \n",
    "    ts_df['day_hour'] = ts_df.time_of_day.apply(lambda x: parse_time_of_day(x)[0])\n",
    "    ts_df['week'] = ts_df['relative_date_PCIAT'] // 7 + 1\n",
    "    ts_df['month'] = ts_df['relative_date_PCIAT'] // 30 + 1\n",
    "    \n",
    "    # Количество периодов без движения\n",
    "    # Count of periods without activity\n",
    "    ts_onerow['total_inactivity_periods'] = ts_df[ts_df.enmo == 0].enmo.count()\n",
    "    \n",
    "    # Среднее количество часов активности в день\n",
    "    # Avg hours of activity per day\n",
    "    cnt_of_active_hours = ts_df[(ts_df['non-wear_flag'] == 0) & (ts_df.enmo > 0)].drop_duplicates(['relative_date_PCIAT', 'day_hour']).day_hour.count()\n",
    "    cnt_of_days = len(ts_df['relative_date_PCIAT'].unique())\n",
    "    ts_onerow['avg_active_hours_per_day'] = (cnt_of_active_hours or 1) / (cnt_of_days or 1)\n",
    "    \n",
    "    # weekend flag\n",
    "    ts_onerow['weekend_flag'] = ts_df.weekday.isin([6,7]).astype(int)\n",
    "    \n",
    "    # Hour of pick activity\n",
    "    # Пиковое время активности для клиента\n",
    "    peak_hour_of_activity = ts_df[(ts_df['non-wear_flag'] == 0) & (ts_df.enmo > 0)].groupby([ts_df['day_hour']]).enmo.count()\n",
    "    ts_onerow['peak_hour_of_activity'] = peak_hour_of_activity.sort_values(ascending=False).index[0]\n",
    "    \n",
    "    activity_mask = (ts_df['non-wear_flag'] == 0) & (ts_df.enmo > 0)\n",
    "\n",
    "    # Relation of activity in weekday and weekend\n",
    "    # Соотношение активности будни/выходные\n",
    "    weekday_activity = ts_df[activity_mask & (~ts_df.weekday.isin([6,7]))].drop_duplicates().enmo.count()\n",
    "    weekend_activity = ts_df[activity_mask & (ts_df.weekday.isin([6,7]))].drop_duplicates().enmo.count()\n",
    "    ts_onerow['weekday_weekend_activity_ratio'] = (weekday_activity or 1) / (weekend_activity or 1)\n",
    "    \n",
    "    # Activity in differentn parts of day\n",
    "    # Активность в разные части дня\n",
    "    night_mask = (ts_df.day_hour > 0) & (ts_df.day_hour <= 6)\n",
    "    morning_mask = (ts_df.day_hour > 6) & (ts_df.day_hour <= 12)\n",
    "    day_mask = (ts_df.day_hour > 12) & (ts_df.day_hour <= 18)\n",
    "    evening_mask = (ts_df.day_hour > 18) & ((ts_df.day_hour <= 23) | (ts_df.day_hour == 0))\n",
    "    \n",
    "    ts_onerow['night_activity'] = ts_df[activity_mask & night_mask].drop_duplicates().enmo.count()\n",
    "    ts_onerow['morning_activity'] = ts_df[activity_mask & morning_mask].drop_duplicates().enmo.count()\n",
    "    ts_onerow['day_activity'] = ts_df[activity_mask & day_mask].drop_duplicates().enmo.count()\n",
    "    ts_onerow['evening_activity'] = ts_df[activity_mask & evening_mask].drop_duplicates().enmo.count()\n",
    "    \n",
    "    # Total time of device wear\n",
    "    # Общее время ношения устройства\n",
    "    ts_onerow['cnt_of_device_wearing_hours'] = ts_df[(ts_df['non-wear_flag'] == 0)].drop_duplicates(['relative_date_PCIAT', 'day_hour']).day_hour.count()\n",
    "\n",
    "    # Relation of wearing / no wearing device\n",
    "    # Соотношение ношения/не ношения устройства\n",
    "    cnt_of_device_wearing_hours = ts_df[(ts_df['non-wear_flag'] == 0)].drop_duplicates(['relative_date_PCIAT', 'day_hour']).day_hour.count()\n",
    "    cnt_of_device_no_wearing_hours = ts_df[(ts_df['non-wear_flag'] == 1)].drop_duplicates(['relative_date_PCIAT', 'day_hour']).day_hour.count()\n",
    "    ts_onerow['relation_of_wearnig_no_wearing'] = (cnt_of_device_wearing_hours or 1) / (cnt_of_device_no_wearing_hours or 1)\n",
    "    \n",
    "    # Before / after PCIAT test activitys\n",
    "    # Активность до и после теста PCIAT\n",
    "    activity_mask = (ts_df['non-wear_flag'] == 0) & (ts_df.enmo > 0)\n",
    "    pciat_period_mask = ts_df['relative_date_PCIAT'] >= 0\n",
    "    pciat_period_activity = ts_df[activity_mask & pciat_period_mask].drop_duplicates().enmo.count()\n",
    "    pre_pciat_period_activity = ts_df[activity_mask & (~pciat_period_mask)].drop_duplicates().enmo.count()\n",
    "    ts_onerow['pciat_period_activity'] = pciat_period_activity\n",
    "    ts_onerow['pre_pciat_period_activity'] = pre_pciat_period_activity\n",
    "    \n",
    "    # Relation before / after PCIAT test activitys\n",
    "    # Соотношение активность до и после теста PCIAT\n",
    "    ts_onerow['relation_pre_pciat_period_activity'] = (pciat_period_activity or 1) / (pre_pciat_period_activity or 1)\n",
    "    return ts_onerow\n",
    "\n",
    "def parse_time_series(parquet_partitions):\n",
    "    with ThreadPoolExecutor(max_workers=os.cpu_count() * 2) as executor:\n",
    "        results = list(tqdm(executor.map(lambda fpath: handle_parquet_partition(fpath), parquet_partitions), total=len(parquet_partitions)))\n",
    "    ts_input = pd.concat(results); del results; gc.collect()\n",
    "    return ts_input\n",
    "\n",
    "ts_train = parse_time_series(parquet_partitions)\n",
    "print(ts_train.memory_usage(deep=True).sum().round() / 1024 / 1024)\n",
    "ts_train"
   ]
  },
  {
   "cell_type": "code",
   "execution_count": 11,
   "id": "cf8affec",
   "metadata": {
    "execution": {
     "iopub.execute_input": "2024-10-24T12:27:21.056005Z",
     "iopub.status.busy": "2024-10-24T12:27:21.054822Z",
     "iopub.status.idle": "2024-10-24T12:27:22.119773Z",
     "shell.execute_reply": "2024-10-24T12:27:22.118576Z",
     "shell.execute_reply.started": "2024-10-24T12:27:21.055958Z"
    }
   },
   "outputs": [
    {
     "name": "stdout",
     "output_type": "stream",
     "text": [
      "360K\tts_train.parquet\n",
      "CPU times: user 34.8 ms, sys: 29.5 ms, total: 64.3 ms\n",
      "Wall time: 1.06 s\n"
     ]
    }
   ],
   "source": [
    "# %%time\n",
    "# ts_train.to_parquet('ts_train.parquet')\n",
    "# !du -hs 'ts_train.parquet'"
   ]
  },
  {
   "cell_type": "code",
   "execution_count": 5,
   "id": "177da0a3",
   "metadata": {
    "execution": {
     "iopub.execute_input": "2024-10-24T13:04:51.831037Z",
     "iopub.status.busy": "2024-10-24T13:04:51.830555Z",
     "iopub.status.idle": "2024-10-24T13:04:51.905387Z",
     "shell.execute_reply": "2024-10-24T13:04:51.904029Z",
     "shell.execute_reply.started": "2024-10-24T13:04:51.830982Z"
    }
   },
   "outputs": [
    {
     "name": "stdout",
     "output_type": "stream",
     "text": [
      "(3960, 82) (10, 50)\n",
      "CPU times: user 49.7 ms, sys: 12 ms, total: 61.7 ms\n",
      "Wall time: 65.5 ms\n"
     ]
    },
    {
     "data": {
      "text/plain": [
       "(3960, 131)"
      ]
     },
     "execution_count": 5,
     "metadata": {},
     "output_type": "execute_result"
    }
   ],
   "source": [
    "%%time\n",
    "# ts_train = pd.read_parquet(data_filepath.parent / 'ts-train-parquet')\n",
    "# ts_train = pd.read_parquet('ts_train.parquet')\n",
    "train_df = pd.read_csv(data_filepath / 'train.csv')\n",
    "print(train_df.shape, ts_train.shape)\n",
    "train_df = pd.merge(train_df, ts_train, on='id', how='left')\n",
    "train_df.shape"
   ]
  },
  {
   "cell_type": "code",
   "execution_count": 6,
   "id": "d8368432",
   "metadata": {
    "execution": {
     "iopub.execute_input": "2024-10-24T13:04:56.279737Z",
     "iopub.status.busy": "2024-10-24T13:04:56.279278Z",
     "iopub.status.idle": "2024-10-24T13:04:56.344869Z",
     "shell.execute_reply": "2024-10-24T13:04:56.343635Z",
     "shell.execute_reply.started": "2024-10-24T13:04:56.279695Z"
    }
   },
   "outputs": [],
   "source": [
    "def feature_engineering(df):\n",
    "    # season_cols = [col for col in df.columns if 'Season' in col]\n",
    "    # df = df.drop(season_cols, axis=1)\n",
    "    pciat_cols = [c for c in df.columns if c.startswith('PCIAT')]\n",
    "    df = df.drop(columns=pciat_cols, errors='ignore')\n",
    "    df['BMI_Age'] = df['Physical-BMI'] * df['Basic_Demos-Age']\n",
    "    df['Internet_Hours_Age'] = df['PreInt_EduHx-computerinternet_hoursday'] * df['Basic_Demos-Age']\n",
    "    df['BMI_Internet_Hours'] = df['Physical-BMI'] * df['PreInt_EduHx-computerinternet_hoursday']\n",
    "    df['BFP_BMI'] = df['BIA-BIA_Fat'] / df['BIA-BIA_BMI']\n",
    "    df['FFMI_BFP'] = df['BIA-BIA_FFMI'] / df['BIA-BIA_Fat']\n",
    "    df['FMI_BFP'] = df['BIA-BIA_FMI'] / df['BIA-BIA_Fat']\n",
    "    df['LST_TBW'] = df['BIA-BIA_LST'] / df['BIA-BIA_TBW']\n",
    "    df['BFP_BMR'] = df['BIA-BIA_Fat'] * df['BIA-BIA_BMR']\n",
    "    df['BFP_DEE'] = df['BIA-BIA_Fat'] * df['BIA-BIA_DEE']\n",
    "    df['BMR_Weight'] = df['BIA-BIA_BMR'] / df['Physical-Weight']\n",
    "    df['DEE_Weight'] = df['BIA-BIA_DEE'] / df['Physical-Weight']\n",
    "    df['SMM_Height'] = df['BIA-BIA_SMM'] / df['Physical-Height']\n",
    "    df['Muscle_to_Fat'] = df['BIA-BIA_SMM'] / df['BIA-BIA_FMI']\n",
    "    df['Hydration_Status'] = df['BIA-BIA_TBW'] / df['Physical-Weight']\n",
    "    df['ICW_TBW'] = df['BIA-BIA_ICW'] / df['BIA-BIA_TBW']\n",
    "\n",
    "    df['Age_Weight'] = df['Basic_Demos-Age'] * df['Physical-Weight']\n",
    "    df['Sex_BMI'] = df['Basic_Demos-Sex'] * df['Physical-BMI']\n",
    "    df['Sex_HeartRate'] = df['Basic_Demos-Sex'] * df['Physical-HeartRate']\n",
    "    df['Age_WaistCirc'] = df['Basic_Demos-Age'] * df['Physical-Waist_Circumference']\n",
    "    df['BMI_FitnessMaxStage'] = df['Physical-BMI'] * df['Fitness_Endurance-Max_Stage']\n",
    "    df['Weight_GripStrengthDominant'] = df['Physical-Weight'] * df['FGC-FGC_GSD']\n",
    "    df['Weight_GripStrengthNonDominant'] = df['Physical-Weight'] * df['FGC-FGC_GSND']\n",
    "    df['HeartRate_FitnessTime'] = df['Physical-HeartRate'] * (df['Fitness_Endurance-Time_Mins'] + df['Fitness_Endurance-Time_Sec'])\n",
    "    df['Age_PushUp'] = df['Basic_Demos-Age'] * df['FGC-FGC_PU']\n",
    "    df['FFMI_Age'] = df['BIA-BIA_FFMI'] * df['Basic_Demos-Age']\n",
    "    df['InternetUse_SleepDisturbance'] = df['PreInt_EduHx-computerinternet_hoursday'] * df['SDS-SDS_Total_Raw']\n",
    "    df['CGAS_BMI'] = df['CGAS-CGAS_Score'] * df['Physical-BMI']\n",
    "    df['CGAS_FitnessMaxStage'] = df['CGAS-CGAS_Score'] * df['Fitness_Endurance-Max_Stage']\n",
    "    return df\n",
    "\n",
    "train_df = feature_engineering(train_df)\n",
    "train_df = train_df.replace([np.inf, -np.inf], np.nan)"
   ]
  },
  {
   "cell_type": "code",
   "execution_count": 7,
   "id": "eac4a329",
   "metadata": {
    "execution": {
     "iopub.execute_input": "2024-10-24T13:04:59.132230Z",
     "iopub.status.busy": "2024-10-24T13:04:59.131752Z",
     "iopub.status.idle": "2024-10-24T13:05:12.905810Z",
     "shell.execute_reply": "2024-10-24T13:05:12.904615Z",
     "shell.execute_reply.started": "2024-10-24T13:04:59.132185Z"
    }
   },
   "outputs": [
    {
     "name": "stdout",
     "output_type": "stream",
     "text": [
      "len(cat_cols)=10 len(num_cols)=125\n"
     ]
    },
    {
     "name": "stderr",
     "output_type": "stream",
     "text": [
      "<timed exec>:7: FutureWarning: Setting an item of incompatible dtype is deprecated and will raise in a future error of pandas. Value '[-1.84768934 -1.90367398 -1.86043124 ... -1.82749691 -1.88591261\n",
      " -1.90912991]' has dtype incompatible with float32, please explicitly cast to a compatible dtype first.\n",
      "<timed exec>:7: FutureWarning: Setting an item of incompatible dtype is deprecated and will raise in a future error of pandas. Value '[1.56700525 1.75737379 2.46887932 ... 1.54851959 1.65735745 1.40670702]' has dtype incompatible with float32, please explicitly cast to a compatible dtype first.\n",
      "<timed exec>:7: FutureWarning: Setting an item of incompatible dtype is deprecated and will raise in a future error of pandas. Value '[0.53986949 0.56980416 0.53678975 ... 0.53698495 0.54619492 0.53753602]' has dtype incompatible with float32, please explicitly cast to a compatible dtype first.\n",
      "<timed exec>:7: FutureWarning: Setting an item of incompatible dtype is deprecated and will raise in a future error of pandas. Value '[-0.14882626 -0.02393704 -0.10012771 ... -0.15092675 -0.11254132\n",
      " -0.25066859]' has dtype incompatible with float32, please explicitly cast to a compatible dtype first.\n",
      "<timed exec>:7: FutureWarning: Setting an item of incompatible dtype is deprecated and will raise in a future error of pandas. Value '[-0.20058344 -0.02029625 -0.15455556 ... -0.20134573 -0.15585511\n",
      " -0.29762834]' has dtype incompatible with float32, please explicitly cast to a compatible dtype first.\n",
      "<timed exec>:7: FutureWarning: Setting an item of incompatible dtype is deprecated and will raise in a future error of pandas. Value '[-2.49326682 -2.92483778 -2.83225255 ... -2.78504095 -2.87738099\n",
      " -2.75276756]' has dtype incompatible with float32, please explicitly cast to a compatible dtype first.\n",
      "<timed exec>:7: FutureWarning: Setting an item of incompatible dtype is deprecated and will raise in a future error of pandas. Value '[2.32109261 2.72744272 2.03472719 ... 2.21515627 2.3340251  2.14378531]' has dtype incompatible with float32, please explicitly cast to a compatible dtype first.\n",
      "<timed exec>:7: FutureWarning: Setting an item of incompatible dtype is deprecated and will raise in a future error of pandas. Value '[0.4817845  0.49549332 0.4832934  ... 0.49365163 0.47751281 0.48040292]' has dtype incompatible with float32, please explicitly cast to a compatible dtype first.\n",
      "<timed exec>:7: FutureWarning: Setting an item of incompatible dtype is deprecated and will raise in a future error of pandas. Value '[-0.00113257  0.00526319  0.04162461 ...  0.01189662  0.00732341\n",
      " -0.02111986]' has dtype incompatible with float32, please explicitly cast to a compatible dtype first.\n",
      "<timed exec>:7: FutureWarning: Setting an item of incompatible dtype is deprecated and will raise in a future error of pandas. Value '[0.00224076 0.00736876 0.03392464 ... 0.02366042 0.00362791 0.00025091]' has dtype incompatible with float32, please explicitly cast to a compatible dtype first.\n",
      "<timed exec>:7: FutureWarning: Setting an item of incompatible dtype is deprecated and will raise in a future error of pandas. Value '[-1.38438978 -1.46349037 -1.23634179 ... -1.38784976 -1.39119682\n",
      " -1.24736555]' has dtype incompatible with float32, please explicitly cast to a compatible dtype first.\n",
      "<timed exec>:7: FutureWarning: Setting an item of incompatible dtype is deprecated and will raise in a future error of pandas. Value '[1.71807396 1.91030595 1.70513055 ... 1.76122262 1.79896107 1.70032268]' has dtype incompatible with float32, please explicitly cast to a compatible dtype first.\n",
      "<timed exec>:7: FutureWarning: Setting an item of incompatible dtype is deprecated and will raise in a future error of pandas. Value '[0.55935103 0.56448764 0.58440741 ... 0.54589539 0.58959441 0.50569322]' has dtype incompatible with float32, please explicitly cast to a compatible dtype first.\n",
      "<timed exec>:7: FutureWarning: Setting an item of incompatible dtype is deprecated and will raise in a future error of pandas. Value '[-0.12067172 -0.08850791 -0.1451807  ... -0.13758131 -0.1287391\n",
      " -0.09024983]' has dtype incompatible with float32, please explicitly cast to a compatible dtype first.\n",
      "<timed exec>:7: FutureWarning: Setting an item of incompatible dtype is deprecated and will raise in a future error of pandas. Value '[-0.18750327 -0.1537508  -0.23341576 ... -0.2033758  -0.20521811\n",
      " -0.12303892]' has dtype incompatible with float32, please explicitly cast to a compatible dtype first.\n",
      "<timed exec>:7: FutureWarning: Setting an item of incompatible dtype is deprecated and will raise in a future error of pandas. Value '[3.91292834 4.3594646  4.5092114  ... 4.42647872 4.34529433 4.31989975]' has dtype incompatible with float32, please explicitly cast to a compatible dtype first.\n",
      "<timed exec>:7: FutureWarning: Setting an item of incompatible dtype is deprecated and will raise in a future error of pandas. Value '[0.11633949 0.14610251 0.11832356 ... 0.12867521 0.12415853 0.1469508 ]' has dtype incompatible with float32, please explicitly cast to a compatible dtype first.\n",
      "<timed exec>:7: FutureWarning: Setting an item of incompatible dtype is deprecated and will raise in a future error of pandas. Value '[0.03994252 0.04991855 0.04114975 ... 0.0434219  0.03949144 0.05499896]' has dtype incompatible with float32, please explicitly cast to a compatible dtype first.\n",
      "<timed exec>:7: FutureWarning: Setting an item of incompatible dtype is deprecated and will raise in a future error of pandas. Value '[0.01275323 0.01498187 0.01244673 ... 0.01304006 0.01076766 0.0194294 ]' has dtype incompatible with float32, please explicitly cast to a compatible dtype first.\n",
      "<timed exec>:7: FutureWarning: Setting an item of incompatible dtype is deprecated and will raise in a future error of pandas. Value '[-89.5276947  -89.56490784 -89.53895721 ... -89.47593536 -89.54269257\n",
      " -89.55810089]' has dtype incompatible with float32, please explicitly cast to a compatible dtype first.\n",
      "<timed exec>:7: FutureWarning: Setting an item of incompatible dtype is deprecated and will raise in a future error of pandas. Value '[89.40581055 89.39095764 89.48443756 ... 88.84640198 89.37366791\n",
      " 88.98485565]' has dtype incompatible with float32, please explicitly cast to a compatible dtype first.\n",
      "<timed exec>:7: FutureWarning: Setting an item of incompatible dtype is deprecated and will raise in a future error of pandas. Value '[39.97144394 40.28723831 42.02176514 ... 38.89609261 42.49477158\n",
      " 35.02094536]' has dtype incompatible with float32, please explicitly cast to a compatible dtype first.\n",
      "<timed exec>:7: FutureWarning: Setting an item of incompatible dtype is deprecated and will raise in a future error of pandas. Value '[-8.16788063 -6.02137899 -9.97027349 ... -9.21668072 -8.96202431\n",
      " -6.10423241]' has dtype incompatible with float32, please explicitly cast to a compatible dtype first.\n",
      "<timed exec>:7: FutureWarning: Setting an item of incompatible dtype is deprecated and will raise in a future error of pandas. Value '[-11.27245998  -9.29817915 -14.06230049 ... -12.20597906 -12.33389006\n",
      "  -7.53272533]' has dtype incompatible with float32, please explicitly cast to a compatible dtype first.\n",
      "<timed exec>:7: FutureWarning: Setting an item of incompatible dtype is deprecated and will raise in a future error of pandas. Value '[2636.05       2632.48999023 2598.3300293  ... 2630.48999023 2623.17001953\n",
      " 2628.63999023]' has dtype incompatible with float32, please explicitly cast to a compatible dtype first.\n",
      "<timed exec>:7: FutureWarning: Setting an item of incompatible dtype is deprecated and will raise in a future error of pandas. Value '[258.03134766 286.6380127  205.52395477 ... 277.03609009 235.87551575\n",
      " 277.25264893]' has dtype incompatible with float32, please explicitly cast to a compatible dtype first.\n",
      "<timed exec>:7: FutureWarning: Setting an item of incompatible dtype is deprecated and will raise in a future error of pandas. Value '[64.0110817  73.44954453 53.58653355 ... 71.25782852 60.91450462\n",
      " 70.3372963 ]' has dtype incompatible with float32, please explicitly cast to a compatible dtype first.\n",
      "<timed exec>:7: FutureWarning: Setting an item of incompatible dtype is deprecated and will raise in a future error of pandas. Value '[ 9.76800556  9.08051834  8.90512714 ...  9.73613806 10.08323269\n",
      "  8.11286077]' has dtype incompatible with float32, please explicitly cast to a compatible dtype first.\n",
      "<timed exec>:7: FutureWarning: Setting an item of incompatible dtype is deprecated and will raise in a future error of pandas. Value '[3363.31669922 3383.31669922 3171.95004883 ... 3395.11669922 3244.15004883\n",
      " 3653.45      ]' has dtype incompatible with float32, please explicitly cast to a compatible dtype first.\n",
      "<timed exec>:7: FutureWarning: Setting an item of incompatible dtype is deprecated and will raise in a future error of pandas. Value '[4159.66669922 4156.         4522.4        ... 4158.4        4159.8\n",
      " 4168.46669922]' has dtype incompatible with float32, please explicitly cast to a compatible dtype first.\n",
      "<timed exec>:7: FutureWarning: Setting an item of incompatible dtype is deprecated and will raise in a future error of pandas. Value '[152.17303925 138.31026077 161.75679932 ... 135.9757225  158.90570221\n",
      " 108.64397736]' has dtype incompatible with float32, please explicitly cast to a compatible dtype first.\n",
      "<timed exec>:7: FutureWarning: Setting an item of incompatible dtype is deprecated and will raise in a future error of pandas. Value '[3863.70610352 3894.45625    3839.89477539 ... 3905.95771484 3853.67685547\n",
      " 3961.44023437]' has dtype incompatible with float32, please explicitly cast to a compatible dtype first.\n",
      "<timed exec>:7: FutureWarning: Setting an item of incompatible dtype is deprecated and will raise in a future error of pandas. Value '[3854.2 3892.8 3828.4 ... 3904.6 3844.8 3962. ]' has dtype incompatible with float32, please explicitly cast to a compatible dtype first.\n"
     ]
    },
    {
     "name": "stdout",
     "output_type": "stream",
     "text": [
      "CPU times: user 12.6 s, sys: 3.51 s, total: 16.1 s\n",
      "Wall time: 13.8 s\n"
     ]
    },
    {
     "data": {
      "text/plain": [
       "0"
      ]
     },
     "execution_count": 7,
     "metadata": {},
     "output_type": "execute_result"
    }
   ],
   "source": [
    "%%time\n",
    "train_df_imputed = train_df.drop(columns='id').copy()\n",
    "cat_cols = train_df_imputed.select_dtypes(include='object').columns.tolist()\n",
    "num_cols = train_df_imputed.drop(columns='sii').select_dtypes(include='number').columns.tolist()\n",
    "print(f'{len(cat_cols)=} {len(num_cols)=}')\n",
    "impute_cols = list(set(num_cols + ['sii']))\n",
    "knn_imputer = KNNImputer(n_neighbors=5)\n",
    "train_df_imputed.loc[:,num_cols] = knn_imputer.fit_transform(train_df_imputed[num_cols])\n",
    "train_df_imputed.loc[:,cat_cols] = train_df_imputed[cat_cols].fillna('missing')\n",
    "train_df_imputed['sii'] = pd.DataFrame(KNNImputer(n_neighbors=5).fit_transform(train_df_imputed[impute_cols]), columns=impute_cols).sii\n",
    "train_df_imputed['sii'] = train_df_imputed.sii.round().astype(int)\n",
    "train_df_imputed.isna().sum().sum()"
   ]
  },
  {
   "cell_type": "code",
   "execution_count": 9,
   "id": "9e677ab2",
   "metadata": {
    "execution": {
     "iopub.execute_input": "2024-10-24T13:05:18.672533Z",
     "iopub.status.busy": "2024-10-24T13:05:18.670522Z",
     "iopub.status.idle": "2024-10-24T13:05:18.690106Z",
     "shell.execute_reply": "2024-10-24T13:05:18.688654Z",
     "shell.execute_reply.started": "2024-10-24T13:05:18.672454Z"
    }
   },
   "outputs": [
    {
     "data": {
      "text/plain": [
       "sii\n",
       "0.0    1594\n",
       "1.0     730\n",
       "2.0     378\n",
       "3.0      34\n",
       "NaN    1224\n",
       "Name: count, dtype: int64"
      ]
     },
     "execution_count": 9,
     "metadata": {},
     "output_type": "execute_result"
    }
   ],
   "source": [
    "train_df.sii.value_counts(dropna=False).sort_index()"
   ]
  },
  {
   "cell_type": "code",
   "execution_count": 10,
   "id": "5ad940e3",
   "metadata": {
    "execution": {
     "iopub.execute_input": "2024-10-24T13:05:23.488972Z",
     "iopub.status.busy": "2024-10-24T13:05:23.488468Z",
     "iopub.status.idle": "2024-10-24T13:05:23.499264Z",
     "shell.execute_reply": "2024-10-24T13:05:23.498032Z",
     "shell.execute_reply.started": "2024-10-24T13:05:23.488895Z"
    }
   },
   "outputs": [
    {
     "data": {
      "text/plain": [
       "sii\n",
       "0    2082\n",
       "1    1422\n",
       "2     422\n",
       "3      34\n",
       "Name: count, dtype: int64"
      ]
     },
     "execution_count": 10,
     "metadata": {},
     "output_type": "execute_result"
    }
   ],
   "source": [
    "train_df_imputed.sii.value_counts(dropna=False).sort_index()"
   ]
  },
  {
   "cell_type": "code",
   "execution_count": 11,
   "id": "e68711c6",
   "metadata": {
    "execution": {
     "iopub.execute_input": "2024-10-24T13:05:25.144765Z",
     "iopub.status.busy": "2024-10-24T13:05:25.144276Z",
     "iopub.status.idle": "2024-10-24T13:05:25.172821Z",
     "shell.execute_reply": "2024-10-24T13:05:25.171438Z",
     "shell.execute_reply.started": "2024-10-24T13:05:25.144717Z"
    }
   },
   "outputs": [
    {
     "data": {
      "text/plain": [
       "((3960, 135), (3960,))"
      ]
     },
     "execution_count": 11,
     "metadata": {},
     "output_type": "execute_result"
    }
   ],
   "source": [
    "cols_to_drop = ['sii', 'id']\n",
    "X, y = train_df_imputed.drop(columns=cols_to_drop, errors='ignore'), train_df_imputed.sii\n",
    "cat_cols = X.select_dtypes(include='object').columns.tolist()\n",
    "num_cols = X.select_dtypes(include='number').columns.tolist()\n",
    "X.shape, y.shape"
   ]
  },
  {
   "cell_type": "code",
   "execution_count": 18,
   "id": "72a48609",
   "metadata": {
    "execution": {
     "iopub.execute_input": "2024-10-24T12:27:55.037447Z",
     "iopub.status.busy": "2024-10-24T12:27:55.036761Z",
     "iopub.status.idle": "2024-10-24T12:27:55.050499Z",
     "shell.execute_reply": "2024-10-24T12:27:55.049427Z",
     "shell.execute_reply.started": "2024-10-24T12:27:55.037406Z"
    }
   },
   "outputs": [
    {
     "data": {
      "text/plain": [
       "0"
      ]
     },
     "execution_count": 18,
     "metadata": {},
     "output_type": "execute_result"
    }
   ],
   "source": [
    "X.isna().sum().sum()"
   ]
  },
  {
   "cell_type": "code",
   "execution_count": 12,
   "id": "cf5de969",
   "metadata": {
    "execution": {
     "iopub.execute_input": "2024-10-24T13:05:27.223572Z",
     "iopub.status.busy": "2024-10-24T13:05:27.223118Z",
     "iopub.status.idle": "2024-10-24T13:05:27.318087Z",
     "shell.execute_reply": "2024-10-24T13:05:27.316441Z",
     "shell.execute_reply.started": "2024-10-24T13:05:27.223532Z"
    }
   },
   "outputs": [
    {
     "data": {
      "text/html": [
       "<style>#sk-container-id-1 {color: black;background-color: white;}#sk-container-id-1 pre{padding: 0;}#sk-container-id-1 div.sk-toggleable {background-color: white;}#sk-container-id-1 label.sk-toggleable__label {cursor: pointer;display: block;width: 100%;margin-bottom: 0;padding: 0.3em;box-sizing: border-box;text-align: center;}#sk-container-id-1 label.sk-toggleable__label-arrow:before {content: \"▸\";float: left;margin-right: 0.25em;color: #696969;}#sk-container-id-1 label.sk-toggleable__label-arrow:hover:before {color: black;}#sk-container-id-1 div.sk-estimator:hover label.sk-toggleable__label-arrow:before {color: black;}#sk-container-id-1 div.sk-toggleable__content {max-height: 0;max-width: 0;overflow: hidden;text-align: left;background-color: #f0f8ff;}#sk-container-id-1 div.sk-toggleable__content pre {margin: 0.2em;color: black;border-radius: 0.25em;background-color: #f0f8ff;}#sk-container-id-1 input.sk-toggleable__control:checked~div.sk-toggleable__content {max-height: 200px;max-width: 100%;overflow: auto;}#sk-container-id-1 input.sk-toggleable__control:checked~label.sk-toggleable__label-arrow:before {content: \"▾\";}#sk-container-id-1 div.sk-estimator input.sk-toggleable__control:checked~label.sk-toggleable__label {background-color: #d4ebff;}#sk-container-id-1 div.sk-label input.sk-toggleable__control:checked~label.sk-toggleable__label {background-color: #d4ebff;}#sk-container-id-1 input.sk-hidden--visually {border: 0;clip: rect(1px 1px 1px 1px);clip: rect(1px, 1px, 1px, 1px);height: 1px;margin: -1px;overflow: hidden;padding: 0;position: absolute;width: 1px;}#sk-container-id-1 div.sk-estimator {font-family: monospace;background-color: #f0f8ff;border: 1px dotted black;border-radius: 0.25em;box-sizing: border-box;margin-bottom: 0.5em;}#sk-container-id-1 div.sk-estimator:hover {background-color: #d4ebff;}#sk-container-id-1 div.sk-parallel-item::after {content: \"\";width: 100%;border-bottom: 1px solid gray;flex-grow: 1;}#sk-container-id-1 div.sk-label:hover label.sk-toggleable__label {background-color: #d4ebff;}#sk-container-id-1 div.sk-serial::before {content: \"\";position: absolute;border-left: 1px solid gray;box-sizing: border-box;top: 0;bottom: 0;left: 50%;z-index: 0;}#sk-container-id-1 div.sk-serial {display: flex;flex-direction: column;align-items: center;background-color: white;padding-right: 0.2em;padding-left: 0.2em;position: relative;}#sk-container-id-1 div.sk-item {position: relative;z-index: 1;}#sk-container-id-1 div.sk-parallel {display: flex;align-items: stretch;justify-content: center;background-color: white;position: relative;}#sk-container-id-1 div.sk-item::before, #sk-container-id-1 div.sk-parallel-item::before {content: \"\";position: absolute;border-left: 1px solid gray;box-sizing: border-box;top: 0;bottom: 0;left: 50%;z-index: -1;}#sk-container-id-1 div.sk-parallel-item {display: flex;flex-direction: column;z-index: 1;position: relative;background-color: white;}#sk-container-id-1 div.sk-parallel-item:first-child::after {align-self: flex-end;width: 50%;}#sk-container-id-1 div.sk-parallel-item:last-child::after {align-self: flex-start;width: 50%;}#sk-container-id-1 div.sk-parallel-item:only-child::after {width: 0;}#sk-container-id-1 div.sk-dashed-wrapped {border: 1px dashed gray;margin: 0 0.4em 0.5em 0.4em;box-sizing: border-box;padding-bottom: 0.4em;background-color: white;}#sk-container-id-1 div.sk-label label {font-family: monospace;font-weight: bold;display: inline-block;line-height: 1.2em;}#sk-container-id-1 div.sk-label-container {text-align: center;}#sk-container-id-1 div.sk-container {/* jupyter's `normalize.less` sets `[hidden] { display: none; }` but bootstrap.min.css set `[hidden] { display: none !important; }` so we also need the `!important` here to be able to override the default hidden behavior on the sphinx rendered scikit-learn.org. See: https://github.com/scikit-learn/scikit-learn/issues/21755 */display: inline-block !important;position: relative;}#sk-container-id-1 div.sk-text-repr-fallback {display: none;}</style><div id=\"sk-container-id-1\" class=\"sk-top-container\"><div class=\"sk-text-repr-fallback\"><pre>Pipeline(steps=[(&#x27;cols_transformer&#x27;,\n",
       "                 ColumnTransformer(transformers=[(&#x27;numeric&#x27;,\n",
       "                                                  Pipeline(steps=[(&#x27;imputer&#x27;,\n",
       "                                                                   SimpleImputer())]),\n",
       "                                                  [&#x27;Basic_Demos-Age&#x27;,\n",
       "                                                   &#x27;Basic_Demos-Sex&#x27;,\n",
       "                                                   &#x27;CGAS-CGAS_Score&#x27;,\n",
       "                                                   &#x27;Physical-BMI&#x27;,\n",
       "                                                   &#x27;Physical-Height&#x27;,\n",
       "                                                   &#x27;Physical-Weight&#x27;,\n",
       "                                                   &#x27;Physical-Waist_Circumference&#x27;,\n",
       "                                                   &#x27;Physical-Diastolic_BP&#x27;,\n",
       "                                                   &#x27;Physical-HeartRate&#x27;,\n",
       "                                                   &#x27;Physical-Systolic_BP&#x27;,\n",
       "                                                   &#x27;Fitness_Endurance-M...\n",
       "                                                   &#x27;BIA-BIA_BMC&#x27;, &#x27;BIA-BIA_BMI&#x27;, ...]),\n",
       "                                                 (&#x27;category&#x27;,\n",
       "                                                  Pipeline(steps=[(&#x27;imputer&#x27;,\n",
       "                                                                   SimpleImputer(strategy=&#x27;most_frequent&#x27;)),\n",
       "                                                                  (&#x27;encoder&#x27;,\n",
       "                                                                   OrdinalEncoder())]),\n",
       "                                                  [&#x27;Basic_Demos-Enroll_Season&#x27;,\n",
       "                                                   &#x27;CGAS-Season&#x27;,\n",
       "                                                   &#x27;Physical-Season&#x27;,\n",
       "                                                   &#x27;Fitness_Endurance-Season&#x27;,\n",
       "                                                   &#x27;FGC-Season&#x27;, &#x27;BIA-Season&#x27;,\n",
       "                                                   &#x27;PAQ_A-Season&#x27;,\n",
       "                                                   &#x27;PAQ_C-Season&#x27;, &#x27;SDS-Season&#x27;,\n",
       "                                                   &#x27;PreInt_EduHx-Season&#x27;])])),\n",
       "                (&#x27;scaler&#x27;, StandardScaler())])</pre><b>In a Jupyter environment, please rerun this cell to show the HTML representation or trust the notebook. <br />On GitHub, the HTML representation is unable to render, please try loading this page with nbviewer.org.</b></div><div class=\"sk-container\" hidden><div class=\"sk-item sk-dashed-wrapped\"><div class=\"sk-label-container\"><div class=\"sk-label sk-toggleable\"><input class=\"sk-toggleable__control sk-hidden--visually\" id=\"sk-estimator-id-1\" type=\"checkbox\" ><label for=\"sk-estimator-id-1\" class=\"sk-toggleable__label sk-toggleable__label-arrow\">Pipeline</label><div class=\"sk-toggleable__content\"><pre>Pipeline(steps=[(&#x27;cols_transformer&#x27;,\n",
       "                 ColumnTransformer(transformers=[(&#x27;numeric&#x27;,\n",
       "                                                  Pipeline(steps=[(&#x27;imputer&#x27;,\n",
       "                                                                   SimpleImputer())]),\n",
       "                                                  [&#x27;Basic_Demos-Age&#x27;,\n",
       "                                                   &#x27;Basic_Demos-Sex&#x27;,\n",
       "                                                   &#x27;CGAS-CGAS_Score&#x27;,\n",
       "                                                   &#x27;Physical-BMI&#x27;,\n",
       "                                                   &#x27;Physical-Height&#x27;,\n",
       "                                                   &#x27;Physical-Weight&#x27;,\n",
       "                                                   &#x27;Physical-Waist_Circumference&#x27;,\n",
       "                                                   &#x27;Physical-Diastolic_BP&#x27;,\n",
       "                                                   &#x27;Physical-HeartRate&#x27;,\n",
       "                                                   &#x27;Physical-Systolic_BP&#x27;,\n",
       "                                                   &#x27;Fitness_Endurance-M...\n",
       "                                                   &#x27;BIA-BIA_BMC&#x27;, &#x27;BIA-BIA_BMI&#x27;, ...]),\n",
       "                                                 (&#x27;category&#x27;,\n",
       "                                                  Pipeline(steps=[(&#x27;imputer&#x27;,\n",
       "                                                                   SimpleImputer(strategy=&#x27;most_frequent&#x27;)),\n",
       "                                                                  (&#x27;encoder&#x27;,\n",
       "                                                                   OrdinalEncoder())]),\n",
       "                                                  [&#x27;Basic_Demos-Enroll_Season&#x27;,\n",
       "                                                   &#x27;CGAS-Season&#x27;,\n",
       "                                                   &#x27;Physical-Season&#x27;,\n",
       "                                                   &#x27;Fitness_Endurance-Season&#x27;,\n",
       "                                                   &#x27;FGC-Season&#x27;, &#x27;BIA-Season&#x27;,\n",
       "                                                   &#x27;PAQ_A-Season&#x27;,\n",
       "                                                   &#x27;PAQ_C-Season&#x27;, &#x27;SDS-Season&#x27;,\n",
       "                                                   &#x27;PreInt_EduHx-Season&#x27;])])),\n",
       "                (&#x27;scaler&#x27;, StandardScaler())])</pre></div></div></div><div class=\"sk-serial\"><div class=\"sk-item sk-dashed-wrapped\"><div class=\"sk-label-container\"><div class=\"sk-label sk-toggleable\"><input class=\"sk-toggleable__control sk-hidden--visually\" id=\"sk-estimator-id-2\" type=\"checkbox\" ><label for=\"sk-estimator-id-2\" class=\"sk-toggleable__label sk-toggleable__label-arrow\">cols_transformer: ColumnTransformer</label><div class=\"sk-toggleable__content\"><pre>ColumnTransformer(transformers=[(&#x27;numeric&#x27;,\n",
       "                                 Pipeline(steps=[(&#x27;imputer&#x27;, SimpleImputer())]),\n",
       "                                 [&#x27;Basic_Demos-Age&#x27;, &#x27;Basic_Demos-Sex&#x27;,\n",
       "                                  &#x27;CGAS-CGAS_Score&#x27;, &#x27;Physical-BMI&#x27;,\n",
       "                                  &#x27;Physical-Height&#x27;, &#x27;Physical-Weight&#x27;,\n",
       "                                  &#x27;Physical-Waist_Circumference&#x27;,\n",
       "                                  &#x27;Physical-Diastolic_BP&#x27;, &#x27;Physical-HeartRate&#x27;,\n",
       "                                  &#x27;Physical-Systolic_BP&#x27;,\n",
       "                                  &#x27;Fitness_Endurance-Max_Stage&#x27;,\n",
       "                                  &#x27;Fitness_Endurance-Time_Mi...\n",
       "                                  &#x27;BIA-BIA_Activity_Level_num&#x27;, &#x27;BIA-BIA_BMC&#x27;,\n",
       "                                  &#x27;BIA-BIA_BMI&#x27;, ...]),\n",
       "                                (&#x27;category&#x27;,\n",
       "                                 Pipeline(steps=[(&#x27;imputer&#x27;,\n",
       "                                                  SimpleImputer(strategy=&#x27;most_frequent&#x27;)),\n",
       "                                                 (&#x27;encoder&#x27;,\n",
       "                                                  OrdinalEncoder())]),\n",
       "                                 [&#x27;Basic_Demos-Enroll_Season&#x27;, &#x27;CGAS-Season&#x27;,\n",
       "                                  &#x27;Physical-Season&#x27;, &#x27;Fitness_Endurance-Season&#x27;,\n",
       "                                  &#x27;FGC-Season&#x27;, &#x27;BIA-Season&#x27;, &#x27;PAQ_A-Season&#x27;,\n",
       "                                  &#x27;PAQ_C-Season&#x27;, &#x27;SDS-Season&#x27;,\n",
       "                                  &#x27;PreInt_EduHx-Season&#x27;])])</pre></div></div></div><div class=\"sk-parallel\"><div class=\"sk-parallel-item\"><div class=\"sk-item\"><div class=\"sk-label-container\"><div class=\"sk-label sk-toggleable\"><input class=\"sk-toggleable__control sk-hidden--visually\" id=\"sk-estimator-id-3\" type=\"checkbox\" ><label for=\"sk-estimator-id-3\" class=\"sk-toggleable__label sk-toggleable__label-arrow\">numeric</label><div class=\"sk-toggleable__content\"><pre>[&#x27;Basic_Demos-Age&#x27;, &#x27;Basic_Demos-Sex&#x27;, &#x27;CGAS-CGAS_Score&#x27;, &#x27;Physical-BMI&#x27;, &#x27;Physical-Height&#x27;, &#x27;Physical-Weight&#x27;, &#x27;Physical-Waist_Circumference&#x27;, &#x27;Physical-Diastolic_BP&#x27;, &#x27;Physical-HeartRate&#x27;, &#x27;Physical-Systolic_BP&#x27;, &#x27;Fitness_Endurance-Max_Stage&#x27;, &#x27;Fitness_Endurance-Time_Mins&#x27;, &#x27;Fitness_Endurance-Time_Sec&#x27;, &#x27;FGC-FGC_CU&#x27;, &#x27;FGC-FGC_CU_Zone&#x27;, &#x27;FGC-FGC_GSND&#x27;, &#x27;FGC-FGC_GSND_Zone&#x27;, &#x27;FGC-FGC_GSD&#x27;, &#x27;FGC-FGC_GSD_Zone&#x27;, &#x27;FGC-FGC_PU&#x27;, &#x27;FGC-FGC_PU_Zone&#x27;, &#x27;FGC-FGC_SRL&#x27;, &#x27;FGC-FGC_SRL_Zone&#x27;, &#x27;FGC-FGC_SRR&#x27;, &#x27;FGC-FGC_SRR_Zone&#x27;, &#x27;FGC-FGC_TL&#x27;, &#x27;FGC-FGC_TL_Zone&#x27;, &#x27;BIA-BIA_Activity_Level_num&#x27;, &#x27;BIA-BIA_BMC&#x27;, &#x27;BIA-BIA_BMI&#x27;, &#x27;BIA-BIA_BMR&#x27;, &#x27;BIA-BIA_DEE&#x27;, &#x27;BIA-BIA_ECW&#x27;, &#x27;BIA-BIA_FFM&#x27;, &#x27;BIA-BIA_FFMI&#x27;, &#x27;BIA-BIA_FMI&#x27;, &#x27;BIA-BIA_Fat&#x27;, &#x27;BIA-BIA_Frame_num&#x27;, &#x27;BIA-BIA_ICW&#x27;, &#x27;BIA-BIA_LDM&#x27;, &#x27;BIA-BIA_LST&#x27;, &#x27;BIA-BIA_SMM&#x27;, &#x27;BIA-BIA_TBW&#x27;, &#x27;PAQ_A-PAQ_A_Total&#x27;, &#x27;PAQ_C-PAQ_C_Total&#x27;, &#x27;SDS-SDS_Total_Raw&#x27;, &#x27;SDS-SDS_Total_T&#x27;, &#x27;PreInt_EduHx-computerinternet_hoursday&#x27;, &#x27;X_min&#x27;, &#x27;X_max&#x27;, &#x27;X_std&#x27;, &#x27;X_mean&#x27;, &#x27;X_median&#x27;, &#x27;Y_min&#x27;, &#x27;Y_max&#x27;, &#x27;Y_std&#x27;, &#x27;Y_mean&#x27;, &#x27;Y_median&#x27;, &#x27;Z_min&#x27;, &#x27;Z_max&#x27;, &#x27;Z_std&#x27;, &#x27;Z_mean&#x27;, &#x27;Z_median&#x27;, &#x27;enmo_min&#x27;, &#x27;enmo_max&#x27;, &#x27;enmo_std&#x27;, &#x27;enmo_mean&#x27;, &#x27;enmo_median&#x27;, &#x27;anglez_min&#x27;, &#x27;anglez_max&#x27;, &#x27;anglez_std&#x27;, &#x27;anglez_mean&#x27;, &#x27;anglez_median&#x27;, &#x27;light_min&#x27;, &#x27;light_max&#x27;, &#x27;light_std&#x27;, &#x27;light_mean&#x27;, &#x27;light_median&#x27;, &#x27;battery_voltage_min&#x27;, &#x27;battery_voltage_max&#x27;, &#x27;battery_voltage_std&#x27;, &#x27;battery_voltage_mean&#x27;, &#x27;battery_voltage_median&#x27;, &#x27;total_inactivity_periods&#x27;, &#x27;avg_active_hours_per_day&#x27;, &#x27;weekend_flag&#x27;, &#x27;peak_hour_of_activity&#x27;, &#x27;weekday_weekend_activity_ratio&#x27;, &#x27;night_activity&#x27;, &#x27;morning_activity&#x27;, &#x27;day_activity&#x27;, &#x27;evening_activity&#x27;, &#x27;cnt_of_device_wearing_hours&#x27;, &#x27;relation_of_wearnig_no_wearing&#x27;, &#x27;pciat_period_activity&#x27;, &#x27;pre_pciat_period_activity&#x27;, &#x27;relation_pre_pciat_period_activity&#x27;, &#x27;BMI_Age&#x27;, &#x27;Internet_Hours_Age&#x27;, &#x27;BMI_Internet_Hours&#x27;, &#x27;BFP_BMI&#x27;, &#x27;FFMI_BFP&#x27;, &#x27;FMI_BFP&#x27;, &#x27;LST_TBW&#x27;, &#x27;BFP_BMR&#x27;, &#x27;BFP_DEE&#x27;, &#x27;BMR_Weight&#x27;, &#x27;DEE_Weight&#x27;, &#x27;SMM_Height&#x27;, &#x27;Muscle_to_Fat&#x27;, &#x27;Hydration_Status&#x27;, &#x27;ICW_TBW&#x27;, &#x27;Age_Weight&#x27;, &#x27;Sex_BMI&#x27;, &#x27;Sex_HeartRate&#x27;, &#x27;Age_WaistCirc&#x27;, &#x27;BMI_FitnessMaxStage&#x27;, &#x27;Weight_GripStrengthDominant&#x27;, &#x27;Weight_GripStrengthNonDominant&#x27;, &#x27;HeartRate_FitnessTime&#x27;, &#x27;Age_PushUp&#x27;, &#x27;FFMI_Age&#x27;, &#x27;InternetUse_SleepDisturbance&#x27;, &#x27;CGAS_BMI&#x27;, &#x27;CGAS_FitnessMaxStage&#x27;]</pre></div></div></div><div class=\"sk-serial\"><div class=\"sk-item\"><div class=\"sk-serial\"><div class=\"sk-item\"><div class=\"sk-estimator sk-toggleable\"><input class=\"sk-toggleable__control sk-hidden--visually\" id=\"sk-estimator-id-4\" type=\"checkbox\" ><label for=\"sk-estimator-id-4\" class=\"sk-toggleable__label sk-toggleable__label-arrow\">SimpleImputer</label><div class=\"sk-toggleable__content\"><pre>SimpleImputer()</pre></div></div></div></div></div></div></div></div><div class=\"sk-parallel-item\"><div class=\"sk-item\"><div class=\"sk-label-container\"><div class=\"sk-label sk-toggleable\"><input class=\"sk-toggleable__control sk-hidden--visually\" id=\"sk-estimator-id-5\" type=\"checkbox\" ><label for=\"sk-estimator-id-5\" class=\"sk-toggleable__label sk-toggleable__label-arrow\">category</label><div class=\"sk-toggleable__content\"><pre>[&#x27;Basic_Demos-Enroll_Season&#x27;, &#x27;CGAS-Season&#x27;, &#x27;Physical-Season&#x27;, &#x27;Fitness_Endurance-Season&#x27;, &#x27;FGC-Season&#x27;, &#x27;BIA-Season&#x27;, &#x27;PAQ_A-Season&#x27;, &#x27;PAQ_C-Season&#x27;, &#x27;SDS-Season&#x27;, &#x27;PreInt_EduHx-Season&#x27;]</pre></div></div></div><div class=\"sk-serial\"><div class=\"sk-item\"><div class=\"sk-serial\"><div class=\"sk-item\"><div class=\"sk-estimator sk-toggleable\"><input class=\"sk-toggleable__control sk-hidden--visually\" id=\"sk-estimator-id-6\" type=\"checkbox\" ><label for=\"sk-estimator-id-6\" class=\"sk-toggleable__label sk-toggleable__label-arrow\">SimpleImputer</label><div class=\"sk-toggleable__content\"><pre>SimpleImputer(strategy=&#x27;most_frequent&#x27;)</pre></div></div></div><div class=\"sk-item\"><div class=\"sk-estimator sk-toggleable\"><input class=\"sk-toggleable__control sk-hidden--visually\" id=\"sk-estimator-id-7\" type=\"checkbox\" ><label for=\"sk-estimator-id-7\" class=\"sk-toggleable__label sk-toggleable__label-arrow\">OrdinalEncoder</label><div class=\"sk-toggleable__content\"><pre>OrdinalEncoder()</pre></div></div></div></div></div></div></div></div></div></div><div class=\"sk-item\"><div class=\"sk-estimator sk-toggleable\"><input class=\"sk-toggleable__control sk-hidden--visually\" id=\"sk-estimator-id-8\" type=\"checkbox\" ><label for=\"sk-estimator-id-8\" class=\"sk-toggleable__label sk-toggleable__label-arrow\">StandardScaler</label><div class=\"sk-toggleable__content\"><pre>StandardScaler()</pre></div></div></div></div></div></div></div>"
      ],
      "text/plain": [
       "Pipeline(steps=[('cols_transformer',\n",
       "                 ColumnTransformer(transformers=[('numeric',\n",
       "                                                  Pipeline(steps=[('imputer',\n",
       "                                                                   SimpleImputer())]),\n",
       "                                                  ['Basic_Demos-Age',\n",
       "                                                   'Basic_Demos-Sex',\n",
       "                                                   'CGAS-CGAS_Score',\n",
       "                                                   'Physical-BMI',\n",
       "                                                   'Physical-Height',\n",
       "                                                   'Physical-Weight',\n",
       "                                                   'Physical-Waist_Circumference',\n",
       "                                                   'Physical-Diastolic_BP',\n",
       "                                                   'Physical-HeartRate',\n",
       "                                                   'Physical-Systolic_BP',\n",
       "                                                   'Fitness_Endurance-M...\n",
       "                                                   'BIA-BIA_BMC', 'BIA-BIA_BMI', ...]),\n",
       "                                                 ('category',\n",
       "                                                  Pipeline(steps=[('imputer',\n",
       "                                                                   SimpleImputer(strategy='most_frequent')),\n",
       "                                                                  ('encoder',\n",
       "                                                                   OrdinalEncoder())]),\n",
       "                                                  ['Basic_Demos-Enroll_Season',\n",
       "                                                   'CGAS-Season',\n",
       "                                                   'Physical-Season',\n",
       "                                                   'Fitness_Endurance-Season',\n",
       "                                                   'FGC-Season', 'BIA-Season',\n",
       "                                                   'PAQ_A-Season',\n",
       "                                                   'PAQ_C-Season', 'SDS-Season',\n",
       "                                                   'PreInt_EduHx-Season'])])),\n",
       "                ('scaler', StandardScaler())])"
      ]
     },
     "execution_count": 12,
     "metadata": {},
     "output_type": "execute_result"
    }
   ],
   "source": [
    "numeric_transormer = Pipeline(steps=[\n",
    "    ('imputer', SimpleImputer(strategy='mean')),\n",
    "    # ('imputer', SimpleImputer(strategy='constant', fill_value=-999)),\n",
    "])\n",
    "category_transormer = Pipeline(steps=[\n",
    "    ('imputer', SimpleImputer(strategy='most_frequent')),\n",
    "    # ('imputer', SimpleImputer(strategy='constant', fill_value='missing')),\n",
    "    ('encoder', OrdinalEncoder()),\n",
    "])\n",
    "cols_transformer = ColumnTransformer(transformers=[\n",
    "    ('numeric', numeric_transormer, num_cols),\n",
    "    ('category', category_transormer, cat_cols),\n",
    "])\n",
    "preproc_df_pipe = Pipeline(steps=[\n",
    "    ('cols_transformer', cols_transformer),\n",
    "    ('scaler', StandardScaler()), # MinMaxScaler, StandardScaler, RobustScaler, MaxAbsScaler\n",
    "#     ('scaler', MinMaxScaler()),\n",
    "    # ('scaler', RobustScaler()),\n",
    "    # ('scaler', MaxAbsScaler()),\n",
    "])\n",
    "preproc_df_pipe"
   ]
  },
  {
   "cell_type": "code",
   "execution_count": 13,
   "id": "bf15c192",
   "metadata": {
    "execution": {
     "iopub.execute_input": "2024-10-24T13:05:29.850692Z",
     "iopub.status.busy": "2024-10-24T13:05:29.850236Z",
     "iopub.status.idle": "2024-10-24T13:05:29.942298Z",
     "shell.execute_reply": "2024-10-24T13:05:29.941046Z",
     "shell.execute_reply.started": "2024-10-24T13:05:29.850649Z"
    }
   },
   "outputs": [],
   "source": [
    "X_train, X_test, y_train, y_test = train_test_split(X, y, test_size=.3, stratify=y, random_state=random_state)\n",
    "X_train = preproc_df_pipe.fit_transform(X_train)\n",
    "X_test = preproc_df_pipe.transform(X_test)"
   ]
  },
  {
   "cell_type": "code",
   "execution_count": 14,
   "id": "4ed0be19",
   "metadata": {
    "execution": {
     "iopub.execute_input": "2024-10-24T13:05:31.597005Z",
     "iopub.status.busy": "2024-10-24T13:05:31.596383Z",
     "iopub.status.idle": "2024-10-24T13:06:08.211382Z",
     "shell.execute_reply": "2024-10-24T13:06:08.209968Z",
     "shell.execute_reply.started": "2024-10-24T13:05:31.596930Z"
    }
   },
   "outputs": [
    {
     "name": "stdout",
     "output_type": "stream",
     "text": [
      "0.4545059780563355\n",
      "              precision    recall  f1-score   support\n",
      "\n",
      "           0       0.75      0.81      0.78       624\n",
      "           1       0.61      0.64      0.62       427\n",
      "           2       0.35      0.18      0.24       127\n",
      "           3       0.00      0.00      0.00        10\n",
      "\n",
      "    accuracy                           0.68      1188\n",
      "   macro avg       0.43      0.41      0.41      1188\n",
      "weighted avg       0.65      0.68      0.66      1188\n",
      "\n",
      "CPU times: user 2min 12s, sys: 3.03 s, total: 2min 15s\n",
      "Wall time: 36.6 s\n"
     ]
    }
   ],
   "source": [
    "%%time\n",
    "clf = CatBoostClassifier()\n",
    "clf.fit(\n",
    "    X_train, y_train,\n",
    "    logging_level='Silent', \n",
    ")\n",
    "preds = clf.predict(X_test)\n",
    "print(cohen_kappa_score(y_test, preds, weights='quadratic'))\n",
    "print(classification_report(y_test, preds))"
   ]
  },
  {
   "cell_type": "code",
   "execution_count": 23,
   "id": "bc9296b0",
   "metadata": {
    "execution": {
     "iopub.execute_input": "2024-10-24T12:29:17.543883Z",
     "iopub.status.busy": "2024-10-24T12:29:17.542954Z",
     "iopub.status.idle": "2024-10-24T12:32:54.027793Z",
     "shell.execute_reply": "2024-10-24T12:32:54.026718Z",
     "shell.execute_reply.started": "2024-10-24T12:29:17.543839Z"
    }
   },
   "outputs": [
    {
     "name": "stdout",
     "output_type": "stream",
     "text": [
      "test_f1 0.4067 0.0114\n",
      "test_cohen_kappa_score 0.4396 0.0153\n",
      "CPU times: user 13min 22s, sys: 16 s, total: 13min 38s\n",
      "Wall time: 3min 36s\n"
     ]
    }
   ],
   "source": [
    "%%time\n",
    "_clf = CatBoostClassifier(verbose=0)\n",
    "cv = StratifiedShuffleSplit(n_splits=5, test_size=.3, random_state=random_state)\n",
    "_pipeline = Pipeline([('transformer', preproc_df_pipe), ('estimator', _clf)])\n",
    "scoring = {\n",
    "    'f1': 'f1_macro',\n",
    "    'cohen_kappa_score': KAPPA_SCORER, \n",
    "}\n",
    "scores = cross_validate(_pipeline, X, y, cv=cv, scoring=scoring)\n",
    "for metric, folds_score in scores.items():\n",
    "    if not metric.startswith('test_'): continue\n",
    "    print(metric, folds_score.mean().round(4), folds_score.std().round(4))"
   ]
  },
  {
   "cell_type": "code",
   "execution_count": 15,
   "id": "c7978c60",
   "metadata": {
    "execution": {
     "iopub.execute_input": "2024-10-24T13:06:18.442907Z",
     "iopub.status.busy": "2024-10-24T13:06:18.442431Z",
     "iopub.status.idle": "2024-10-24T13:06:20.550586Z",
     "shell.execute_reply": "2024-10-24T13:06:20.549299Z",
     "shell.execute_reply.started": "2024-10-24T13:06:18.442862Z"
    }
   },
   "outputs": [
    {
     "name": "stderr",
     "output_type": "stream",
     "text": [
      "100%|██████████| 2/2 [00:01<00:00,  1.02it/s]"
     ]
    },
    {
     "name": "stdout",
     "output_type": "stream",
     "text": [
      "CPU times: user 2.22 s, sys: 81 ms, total: 2.3 s\n",
      "Wall time: 2.08 s\n"
     ]
    },
    {
     "name": "stderr",
     "output_type": "stream",
     "text": [
      "\n"
     ]
    },
    {
     "data": {
      "text/html": [
       "<div>\n",
       "<style scoped>\n",
       "    .dataframe tbody tr th:only-of-type {\n",
       "        vertical-align: middle;\n",
       "    }\n",
       "\n",
       "    .dataframe tbody tr th {\n",
       "        vertical-align: top;\n",
       "    }\n",
       "\n",
       "    .dataframe thead th {\n",
       "        text-align: right;\n",
       "    }\n",
       "</style>\n",
       "<table border=\"1\" class=\"dataframe\">\n",
       "  <thead>\n",
       "    <tr style=\"text-align: right;\">\n",
       "      <th></th>\n",
       "      <th>X_min</th>\n",
       "      <th>X_max</th>\n",
       "      <th>X_std</th>\n",
       "      <th>X_mean</th>\n",
       "      <th>X_median</th>\n",
       "      <th>Y_min</th>\n",
       "      <th>Y_max</th>\n",
       "      <th>Y_std</th>\n",
       "      <th>Y_mean</th>\n",
       "      <th>Y_median</th>\n",
       "      <th>...</th>\n",
       "      <th>weekday_weekend_activity_ratio</th>\n",
       "      <th>night_activity</th>\n",
       "      <th>morning_activity</th>\n",
       "      <th>day_activity</th>\n",
       "      <th>evening_activity</th>\n",
       "      <th>cnt_of_device_wearing_hours</th>\n",
       "      <th>relation_of_wearnig_no_wearing</th>\n",
       "      <th>pciat_period_activity</th>\n",
       "      <th>pre_pciat_period_activity</th>\n",
       "      <th>relation_pre_pciat_period_activity</th>\n",
       "    </tr>\n",
       "  </thead>\n",
       "  <tbody>\n",
       "    <tr>\n",
       "      <th>0</th>\n",
       "      <td>-1.746094</td>\n",
       "      <td>1.507865</td>\n",
       "      <td>0.453665</td>\n",
       "      <td>-0.316384</td>\n",
       "      <td>-0.366849</td>\n",
       "      <td>-2.905339</td>\n",
       "      <td>1.666354</td>\n",
       "      <td>0.502702</td>\n",
       "      <td>0.016009</td>\n",
       "      <td>0.024974</td>\n",
       "      <td>...</td>\n",
       "      <td>2.118516</td>\n",
       "      <td>4090</td>\n",
       "      <td>11725</td>\n",
       "      <td>16346</td>\n",
       "      <td>8462</td>\n",
       "      <td>268</td>\n",
       "      <td>268.000000</td>\n",
       "      <td>40759</td>\n",
       "      <td>0</td>\n",
       "      <td>40759.0</td>\n",
       "    </tr>\n",
       "    <tr>\n",
       "      <th>0</th>\n",
       "      <td>-1.038711</td>\n",
       "      <td>1.034351</td>\n",
       "      <td>0.351545</td>\n",
       "      <td>-0.004272</td>\n",
       "      <td>-0.020622</td>\n",
       "      <td>-1.522690</td>\n",
       "      <td>1.946303</td>\n",
       "      <td>0.303812</td>\n",
       "      <td>0.016859</td>\n",
       "      <td>-0.028179</td>\n",
       "      <td>...</td>\n",
       "      <td>2.870638</td>\n",
       "      <td>27828</td>\n",
       "      <td>30012</td>\n",
       "      <td>30269</td>\n",
       "      <td>28449</td>\n",
       "      <td>223</td>\n",
       "      <td>0.586842</td>\n",
       "      <td>120133</td>\n",
       "      <td>0</td>\n",
       "      <td>120133.0</td>\n",
       "    </tr>\n",
       "  </tbody>\n",
       "</table>\n",
       "<p>2 rows × 50 columns</p>\n",
       "</div>"
      ],
      "text/plain": [
       "      X_min     X_max     X_std    X_mean  X_median     Y_min     Y_max  \\\n",
       "0 -1.746094  1.507865  0.453665 -0.316384 -0.366849 -2.905339  1.666354   \n",
       "0 -1.038711  1.034351  0.351545 -0.004272 -0.020622 -1.522690  1.946303   \n",
       "\n",
       "      Y_std    Y_mean  Y_median  ...  weekday_weekend_activity_ratio  \\\n",
       "0  0.502702  0.016009  0.024974  ...                        2.118516   \n",
       "0  0.303812  0.016859 -0.028179  ...                        2.870638   \n",
       "\n",
       "   night_activity  morning_activity  day_activity  evening_activity  \\\n",
       "0            4090             11725         16346              8462   \n",
       "0           27828             30012         30269             28449   \n",
       "\n",
       "   cnt_of_device_wearing_hours  relation_of_wearnig_no_wearing  \\\n",
       "0                          268                      268.000000   \n",
       "0                          223                        0.586842   \n",
       "\n",
       "   pciat_period_activity  pre_pciat_period_activity  \\\n",
       "0                  40759                          0   \n",
       "0                 120133                          0   \n",
       "\n",
       "   relation_pre_pciat_period_activity  \n",
       "0                             40759.0  \n",
       "0                            120133.0  \n",
       "\n",
       "[2 rows x 50 columns]"
      ]
     },
     "execution_count": 15,
     "metadata": {},
     "output_type": "execute_result"
    }
   ],
   "source": [
    "%%time\n",
    "test_parquet_partitions = list((data_filepath / 'series_test.parquet').glob('id=*'))\n",
    "ts_test = parse_time_series(test_parquet_partitions)\n",
    "ts_test"
   ]
  },
  {
   "cell_type": "code",
   "execution_count": 16,
   "id": "6dbd9825",
   "metadata": {
    "execution": {
     "iopub.execute_input": "2024-10-24T13:06:27.142345Z",
     "iopub.status.busy": "2024-10-24T13:06:27.141865Z",
     "iopub.status.idle": "2024-10-24T13:06:27.449404Z",
     "shell.execute_reply": "2024-10-24T13:06:27.448044Z",
     "shell.execute_reply.started": "2024-10-24T13:06:27.142301Z"
    }
   },
   "outputs": [
    {
     "name": "stderr",
     "output_type": "stream",
     "text": [
      "/tmp/ipykernel_30/2621208700.py:4: FutureWarning: Setting an item of incompatible dtype is deprecated and will raise in a future error of pandas. Value '[-1.84768934 -1.90367398 -1.86043124 -1.74609375 -1.87889726 -1.03871083\n",
      " -1.78201253 -1.78376555 -1.93591635 -1.87889726 -1.85211082 -1.86043124\n",
      " -1.82749691 -1.82487643 -1.93591635 -2.07280293 -1.97147117 -1.82744474\n",
      " -1.78376555 -1.93591635]' has dtype incompatible with float32, please explicitly cast to a compatible dtype first.\n",
      "  test_df.loc[:,num_cols] = knn_imputer.transform(test_df[num_cols])\n",
      "/tmp/ipykernel_30/2621208700.py:4: FutureWarning: Setting an item of incompatible dtype is deprecated and will raise in a future error of pandas. Value '[1.56700525 1.75737379 2.46887932 1.50786459 1.91958656 1.03435051\n",
      " 1.99053004 2.52581751 1.85663674 1.91958656 1.46965685 2.46887932\n",
      " 1.54851959 1.74589124 1.85663674 1.72684052 2.57962482 2.26550295\n",
      " 2.52581751 1.85663674]' has dtype incompatible with float32, please explicitly cast to a compatible dtype first.\n",
      "  test_df.loc[:,num_cols] = knn_imputer.transform(test_df[num_cols])\n",
      "/tmp/ipykernel_30/2621208700.py:4: FutureWarning: Setting an item of incompatible dtype is deprecated and will raise in a future error of pandas. Value '[0.53986949 0.56980416 0.53678975 0.45366484 0.52099172 0.35154486\n",
      " 0.54814988 0.56340078 0.53671027 0.52099172 0.52181748 0.53678975\n",
      " 0.53698495 0.49716141 0.53671027 0.53408698 0.57633861 0.53745808\n",
      " 0.56340078 0.53671027]' has dtype incompatible with float32, please explicitly cast to a compatible dtype first.\n",
      "  test_df.loc[:,num_cols] = knn_imputer.transform(test_df[num_cols])\n",
      "/tmp/ipykernel_30/2621208700.py:4: FutureWarning: Setting an item of incompatible dtype is deprecated and will raise in a future error of pandas. Value '[-0.14882626 -0.02393704 -0.10012771 -0.31638351 -0.13245128 -0.00427225\n",
      " -0.03364864 -0.0494933  -0.16434954 -0.13245128 -0.21877033 -0.10012771\n",
      " -0.15092675 -0.19051206 -0.16434954 -0.10343001 -0.07396519 -0.23993991\n",
      " -0.0494933  -0.16434954]' has dtype incompatible with float32, please explicitly cast to a compatible dtype first.\n",
      "  test_df.loc[:,num_cols] = knn_imputer.transform(test_df[num_cols])\n",
      "/tmp/ipykernel_30/2621208700.py:4: FutureWarning: Setting an item of incompatible dtype is deprecated and will raise in a future error of pandas. Value '[-0.20058344 -0.02029625 -0.15455556 -0.36684895 -0.17972061 -0.02062227\n",
      " -0.06183791 -0.06797587 -0.19111532 -0.17972061 -0.28623363 -0.15455556\n",
      " -0.20134573 -0.27879613 -0.19111532 -0.13910845 -0.06687475 -0.30057963\n",
      " -0.06797587 -0.19111532]' has dtype incompatible with float32, please explicitly cast to a compatible dtype first.\n",
      "  test_df.loc[:,num_cols] = knn_imputer.transform(test_df[num_cols])\n",
      "/tmp/ipykernel_30/2621208700.py:4: FutureWarning: Setting an item of incompatible dtype is deprecated and will raise in a future error of pandas. Value '[-2.49326682 -2.92483778 -2.83225255 -2.90533853 -2.67039893 -1.52269018\n",
      " -2.36922843 -2.63616772 -2.47856967 -2.67039893 -2.94459682 -2.83225255\n",
      " -2.78504095 -2.63252909 -2.47856967 -2.97076311 -2.67829313 -2.84821167\n",
      " -2.63616772 -2.47856967]' has dtype incompatible with float32, please explicitly cast to a compatible dtype first.\n",
      "  test_df.loc[:,num_cols] = knn_imputer.transform(test_df[num_cols])\n",
      "/tmp/ipykernel_30/2621208700.py:4: FutureWarning: Setting an item of incompatible dtype is deprecated and will raise in a future error of pandas. Value '[2.32109261 2.72744272 2.03472719 1.66635418 2.09518721 1.94630337\n",
      " 2.21856251 2.42857711 2.15093634 2.09518721 2.08803618 2.03472719\n",
      " 2.21515627 1.57872367 2.15093634 2.44327393 2.60693986 1.8578522\n",
      " 2.42857711 2.15093634]' has dtype incompatible with float32, please explicitly cast to a compatible dtype first.\n",
      "  test_df.loc[:,num_cols] = knn_imputer.transform(test_df[num_cols])\n",
      "/tmp/ipykernel_30/2621208700.py:4: FutureWarning: Setting an item of incompatible dtype is deprecated and will raise in a future error of pandas. Value '[0.4817845  0.49549332 0.4832934  0.50270212 0.49799065 0.30381224\n",
      " 0.49049738 0.49995586 0.4980118  0.49799065 0.48038177 0.4832934\n",
      " 0.49365163 0.47670388 0.4980118  0.48772686 0.50460132 0.48059377\n",
      " 0.49995586 0.4980118 ]' has dtype incompatible with float32, please explicitly cast to a compatible dtype first.\n",
      "  test_df.loc[:,num_cols] = knn_imputer.transform(test_df[num_cols])\n",
      "/tmp/ipykernel_30/2621208700.py:4: FutureWarning: Setting an item of incompatible dtype is deprecated and will raise in a future error of pandas. Value '[-0.00113257  0.00526319  0.04162461  0.01600879 -0.02320983  0.01685888\n",
      " -0.02041205  0.00413685 -0.04765076 -0.02320983  0.00332107  0.04162461\n",
      "  0.01189662  0.01307337 -0.04765076  0.03549952 -0.01909952 -0.01379021\n",
      "  0.00413685 -0.04765076]' has dtype incompatible with float32, please explicitly cast to a compatible dtype first.\n",
      "  test_df.loc[:,num_cols] = knn_imputer.transform(test_df[num_cols])\n",
      "/tmp/ipykernel_30/2621208700.py:4: FutureWarning: Setting an item of incompatible dtype is deprecated and will raise in a future error of pandas. Value '[ 0.00224076  0.00736876  0.03392464  0.02497396 -0.01683363 -0.02817869\n",
      " -0.01153229  0.00788685 -0.03043268 -0.01683363  0.01384997  0.03392464\n",
      "  0.02366042  0.02472757 -0.03043268  0.01649601 -0.02123561  0.00215615\n",
      "  0.00788685 -0.03043268]' has dtype incompatible with float32, please explicitly cast to a compatible dtype first.\n",
      "  test_df.loc[:,num_cols] = knn_imputer.transform(test_df[num_cols])\n",
      "/tmp/ipykernel_30/2621208700.py:4: FutureWarning: Setting an item of incompatible dtype is deprecated and will raise in a future error of pandas. Value '[-1.38438978 -1.46349037 -1.23634179 -1.04837239 -1.17453821 -1.01878679\n",
      " -1.38624039 -1.3885468  -1.24643588 -1.17453821 -1.17546787 -1.23634179\n",
      " -1.38784976 -1.01830642 -1.24643588 -1.30850508 -1.46447124 -1.17922902\n",
      " -1.3885468  -1.24643588]' has dtype incompatible with float32, please explicitly cast to a compatible dtype first.\n",
      "  test_df.loc[:,num_cols] = knn_imputer.transform(test_df[num_cols])\n",
      "/tmp/ipykernel_30/2621208700.py:4: FutureWarning: Setting an item of incompatible dtype is deprecated and will raise in a future error of pandas. Value '[1.71807396 1.91030595 1.70513055 1.54697919 1.79353807 1.14628363\n",
      " 1.62623825 1.66567338 1.7160284  1.79353807 1.77783234 1.70513055\n",
      " 1.76122262 1.6445667  1.7160284  2.05730457 1.77659225 1.5365772\n",
      " 1.66567338 1.7160284 ]' has dtype incompatible with float32, please explicitly cast to a compatible dtype first.\n",
      "  test_df.loc[:,num_cols] = knn_imputer.transform(test_df[num_cols])\n",
      "/tmp/ipykernel_30/2621208700.py:4: FutureWarning: Setting an item of incompatible dtype is deprecated and will raise in a future error of pandas. Value '[0.55935103 0.56448764 0.58440741 0.58570969 0.55745581 0.62347561\n",
      " 0.59126755 0.5582651  0.50756483 0.55745581 0.5555842  0.58440741\n",
      " 0.54589539 0.58339965 0.50756483 0.56058503 0.50857259 0.52971407\n",
      " 0.5582651  0.50756483]' has dtype incompatible with float32, please explicitly cast to a compatible dtype first.\n",
      "  test_df.loc[:,num_cols] = knn_imputer.transform(test_df[num_cols])\n",
      "/tmp/ipykernel_30/2621208700.py:4: FutureWarning: Setting an item of incompatible dtype is deprecated and will raise in a future error of pandas. Value '[-0.12067172 -0.08850791 -0.1451807  -0.1678901  -0.13548038 -0.63173145\n",
      " -0.12914476 -0.14065298 -0.09336228 -0.13548038 -0.13236793 -0.1451807\n",
      " -0.13758131 -0.13730132 -0.09336228 -0.08767505 -0.10124167 -0.15046227\n",
      " -0.14065298 -0.09336228]' has dtype incompatible with float32, please explicitly cast to a compatible dtype first.\n",
      "  test_df.loc[:,num_cols] = knn_imputer.transform(test_df[num_cols])\n",
      "/tmp/ipykernel_30/2621208700.py:4: FutureWarning: Setting an item of incompatible dtype is deprecated and will raise in a future error of pandas. Value '[-0.18750327 -0.1537508  -0.23341576 -0.2453776  -0.19014396 -1.00772846\n",
      " -0.2101232  -0.21407346 -0.11544257 -0.19014396 -0.19774031 -0.23341576\n",
      " -0.2033758  -0.22198771 -0.11544257 -0.14287682 -0.12687062 -0.20107642\n",
      " -0.21407346 -0.11544257]' has dtype incompatible with float32, please explicitly cast to a compatible dtype first.\n",
      "  test_df.loc[:,num_cols] = knn_imputer.transform(test_df[num_cols])\n",
      "/tmp/ipykernel_30/2621208700.py:4: FutureWarning: Setting an item of incompatible dtype is deprecated and will raise in a future error of pandas. Value '[3.91292834 4.3594646  4.5092114  4.0042758  4.3565815  2.95288801\n",
      " 3.96808839 4.64010386 4.07708702 4.3565815  4.59939423 4.5092114\n",
      " 4.42647872 4.09129581 4.07708702 3.93059936 4.4950026  5.03290501\n",
      " 4.64010386 4.07708702]' has dtype incompatible with float32, please explicitly cast to a compatible dtype first.\n",
      "  test_df.loc[:,num_cols] = knn_imputer.transform(test_df[num_cols])\n",
      "/tmp/ipykernel_30/2621208700.py:4: FutureWarning: Setting an item of incompatible dtype is deprecated and will raise in a future error of pandas. Value '[0.11633949 0.14610251 0.11832356 0.10635114 0.11564138 0.02433072\n",
      " 0.1185965  0.12123658 0.1340034  0.11564138 0.12858877 0.11832356\n",
      " 0.12867521 0.12011372 0.1340034  0.12798508 0.13221324 0.1299039\n",
      " 0.12123658 0.1340034 ]' has dtype incompatible with float32, please explicitly cast to a compatible dtype first.\n",
      "  test_df.loc[:,num_cols] = knn_imputer.transform(test_df[num_cols])\n",
      "/tmp/ipykernel_30/2621208700.py:4: FutureWarning: Setting an item of incompatible dtype is deprecated and will raise in a future error of pandas. Value '[0.03994252 0.04991855 0.04114975 0.04738761 0.04160966 0.01192625\n",
      " 0.04019284 0.04282178 0.05407426 0.04160966 0.04253436 0.04114975\n",
      " 0.0434219  0.04156374 0.05407426 0.0470715  0.05366027 0.0474511\n",
      " 0.04282178 0.05407426]' has dtype incompatible with float32, please explicitly cast to a compatible dtype first.\n",
      "  test_df.loc[:,num_cols] = knn_imputer.transform(test_df[num_cols])\n",
      "/tmp/ipykernel_30/2621208700.py:4: FutureWarning: Setting an item of incompatible dtype is deprecated and will raise in a future error of pandas. Value '[0.01275323 0.01498187 0.01244673 0.02363724 0.01484461 0.00983095\n",
      " 0.01417364 0.01487712 0.02141399 0.01484461 0.01286001 0.01244673\n",
      " 0.01304006 0.01383561 0.02141399 0.01311565 0.02002511 0.01733908\n",
      " 0.01487712 0.02141399]' has dtype incompatible with float32, please explicitly cast to a compatible dtype first.\n",
      "  test_df.loc[:,num_cols] = knn_imputer.transform(test_df[num_cols])\n",
      "/tmp/ipykernel_30/2621208700.py:4: FutureWarning: Setting an item of incompatible dtype is deprecated and will raise in a future error of pandas. Value '[-89.5276947  -89.56490784 -89.53895721 -89.83309174 -89.76520233\n",
      " -88.76183319 -89.52194824 -89.56157379 -89.81629486 -89.76520233\n",
      " -89.50700836 -89.53895721 -89.47593536 -89.46364746 -89.81629486\n",
      " -89.80623169 -89.89160461 -89.56976471 -89.56157379 -89.81629486]' has dtype incompatible with float32, please explicitly cast to a compatible dtype first.\n",
      "  test_df.loc[:,num_cols] = knn_imputer.transform(test_df[num_cols])\n",
      "/tmp/ipykernel_30/2621208700.py:4: FutureWarning: Setting an item of incompatible dtype is deprecated and will raise in a future error of pandas. Value '[89.40581055 89.39095764 89.48443756 89.75165558 88.88269043 89.47603607\n",
      " 89.30895538 89.44416351 89.04077606 88.88269043 88.82677002 89.48443756\n",
      " 88.84640198 88.80233154 89.04077606 89.58400726 89.72288208 89.00591888\n",
      " 89.44416351 89.04077606]' has dtype incompatible with float32, please explicitly cast to a compatible dtype first.\n",
      "  test_df.loc[:,num_cols] = knn_imputer.transform(test_df[num_cols])\n",
      "/tmp/ipykernel_30/2621208700.py:4: FutureWarning: Setting an item of incompatible dtype is deprecated and will raise in a future error of pandas. Value '[39.97144394 40.28723831 42.02176514 42.94717026 39.92294807 50.30363464\n",
      " 43.00933456 39.93315811 35.4573246  39.92294807 39.48656883 42.02176514\n",
      " 38.89609261 42.08973885 35.4573246  39.77433395 35.38935089 37.19019279\n",
      " 39.93315811 35.4573246 ]' has dtype incompatible with float32, please explicitly cast to a compatible dtype first.\n",
      "  test_df.loc[:,num_cols] = knn_imputer.transform(test_df[num_cols])\n",
      "/tmp/ipykernel_30/2621208700.py:4: FutureWarning: Setting an item of incompatible dtype is deprecated and will raise in a future error of pandas. Value '[ -8.16788063  -6.02137899  -9.97027349 -10.58041573  -9.495611\n",
      " -55.63076782  -9.03164921  -9.39911079  -6.68004036  -9.495611\n",
      "  -8.91980305  -9.97027349  -9.21668072  -9.56059065  -6.68004036\n",
      "  -6.30458107  -7.08972321 -10.27610788  -9.39911079  -6.68004036]' has dtype incompatible with float32, please explicitly cast to a compatible dtype first.\n",
      "  test_df.loc[:,num_cols] = knn_imputer.transform(test_df[num_cols])\n",
      "/tmp/ipykernel_30/2621208700.py:4: FutureWarning: Setting an item of incompatible dtype is deprecated and will raise in a future error of pandas. Value '[-11.27245998  -9.29817915 -14.06230049 -15.08661747 -11.45179148\n",
      " -86.11991882 -12.62489748 -12.89181013  -7.10592098 -11.45179148\n",
      " -11.87859583 -14.06230049 -12.20597906 -13.34009361  -7.10592098\n",
      "  -8.68942766  -7.82812786 -12.18778639 -12.89181013  -7.10592098]' has dtype incompatible with float32, please explicitly cast to a compatible dtype first.\n",
      "  test_df.loc[:,num_cols] = knn_imputer.transform(test_df[num_cols])\n",
      "/tmp/ipykernel_30/2621208700.py:4: FutureWarning: Setting an item of incompatible dtype is deprecated and will raise in a future error of pandas. Value '[2636.05       2632.48999023 2598.3300293  2633.25       2300.2\n",
      " 2597.80004883 2316.21000977 2607.25       2313.07998047 2300.2\n",
      " 2615.76000977 2598.3300293  2630.48999023 2299.8800293  2313.07998047\n",
      " 2627.85       2611.52998047 2590.52001953 2607.25       2313.07998047]' has dtype incompatible with float32, please explicitly cast to a compatible dtype first.\n",
      "  test_df.loc[:,num_cols] = knn_imputer.transform(test_df[num_cols])\n",
      "/tmp/ipykernel_30/2621208700.py:4: FutureWarning: Setting an item of incompatible dtype is deprecated and will raise in a future error of pandas. Value '[258.03134766 286.6380127  205.52395477 208.16897583 154.39429893\n",
      "  95.32743835 225.18461571 232.88734283 199.79666405 154.39429893\n",
      " 231.85028381 205.52395477 277.03609009 193.79599571 199.79666405\n",
      " 214.6653717  211.52462311 201.34614716 232.88734283 199.79666405]' has dtype incompatible with float32, please explicitly cast to a compatible dtype first.\n",
      "  test_df.loc[:,num_cols] = knn_imputer.transform(test_df[num_cols])\n",
      "/tmp/ipykernel_30/2621208700.py:4: FutureWarning: Setting an item of incompatible dtype is deprecated and will raise in a future error of pandas. Value '[64.0110817  73.44954453 53.58653355 42.29631042 42.07805758 16.77198219\n",
      " 56.80663385 57.67073803 51.5397851  42.07805758 60.87556877 53.58653355\n",
      " 71.25782852 52.68349352 51.5397851  57.77227669 52.44282513 51.46191273\n",
      " 57.67073803 51.5397851 ]' has dtype incompatible with float32, please explicitly cast to a compatible dtype first.\n",
      "  test_df.loc[:,num_cols] = knn_imputer.transform(test_df[num_cols])\n",
      "/tmp/ipykernel_30/2621208700.py:4: FutureWarning: Setting an item of incompatible dtype is deprecated and will raise in a future error of pandas. Value '[9.76800556 9.08051834 8.90512714 6.92682838 7.72827921 0.87900507\n",
      " 8.74289799 8.63145199 6.32006369 7.72827921 9.5210763  8.90512714\n",
      " 9.73613806 8.45441675 6.32006369 8.58650398 6.77077408 7.97902155\n",
      " 8.63145199 6.32006369]' has dtype incompatible with float32, please explicitly cast to a compatible dtype first.\n",
      "  test_df.loc[:,num_cols] = knn_imputer.transform(test_df[num_cols])\n",
      "/tmp/ipykernel_30/2621208700.py:4: FutureWarning: Setting an item of incompatible dtype is deprecated and will raise in a future error of pandas. Value '[3363.31669922 3383.31669922 3171.95004883 3824.         3538.68334961\n",
      " 3098.16674805 3387.53334961 3318.11669922 3797.01665039 3538.68334961\n",
      " 3395.11669922 3171.95004883 3395.11669922 3392.33334961 3797.01665039\n",
      " 3356.50004883 3576.63334961 3469.08334961 3318.11669922 3797.01665039]' has dtype incompatible with float32, please explicitly cast to a compatible dtype first.\n",
      "  test_df.loc[:,num_cols] = knn_imputer.transform(test_df[num_cols])\n",
      "/tmp/ipykernel_30/2621208700.py:4: FutureWarning: Setting an item of incompatible dtype is deprecated and will raise in a future error of pandas. Value '[4159.66669922 4156.         4522.4        4188.5        4181.\n",
      " 4175.         4161.6        4521.8        4185.86669922 4181.\n",
      " 4163.6        4522.4        4158.4        4166.         4185.86669922\n",
      " 4172.06669922 4542.26669922 4534.4        4521.8        4185.86669922]' has dtype incompatible with float32, please explicitly cast to a compatible dtype first.\n",
      "  test_df.loc[:,num_cols] = knn_imputer.transform(test_df[num_cols])\n",
      "/tmp/ipykernel_30/2621208700.py:4: FutureWarning: Setting an item of incompatible dtype is deprecated and will raise in a future error of pandas. Value '[152.17303925 138.31026077 161.75679932 112.4040451  123.65848465\n",
      " 155.5738678  151.05317688 150.37021942  95.88702698 123.65848465\n",
      " 136.41543503 161.75679932 135.9757225  139.94948959  95.88702698\n",
      " 138.05975266 117.6943367  127.43659897 150.37021942  95.88702698]' has dtype incompatible with float32, please explicitly cast to a compatible dtype first.\n",
      "  test_df.loc[:,num_cols] = knn_imputer.transform(test_df[num_cols])\n",
      "/tmp/ipykernel_30/2621208700.py:4: FutureWarning: Setting an item of incompatible dtype is deprecated and will raise in a future error of pandas. Value '[3863.70610352 3894.45625    3839.89477539 4053.57910156 3960.15517578\n",
      " 3838.18945312 3883.14208984 3876.39345703 4014.07490234 3960.15517578\n",
      " 3907.52050781 3839.89477539 3905.95771484 3900.48706055 4014.07490234\n",
      " 3891.15625    3953.48261719 3933.34819336 3876.39345703 4014.07490234]' has dtype incompatible with float32, please explicitly cast to a compatible dtype first.\n",
      "  test_df.loc[:,num_cols] = knn_imputer.transform(test_df[num_cols])\n",
      "/tmp/ipykernel_30/2621208700.py:4: FutureWarning: Setting an item of incompatible dtype is deprecated and will raise in a future error of pandas. Value '[3854.2 3892.8 3828.4 4070.  3952.8 3812.  3882.4 3871.8 4010.2 3952.8\n",
      " 3904.6 3828.4 3904.6 3898.8 4010.2 3869.4 3939.8 3931.6 3871.8 4010.2]' has dtype incompatible with float32, please explicitly cast to a compatible dtype first.\n",
      "  test_df.loc[:,num_cols] = knn_imputer.transform(test_df[num_cols])\n"
     ]
    },
    {
     "data": {
      "text/plain": [
       "sii\n",
       "1    11\n",
       "0     8\n",
       "2     1\n",
       "Name: count, dtype: int64"
      ]
     },
     "execution_count": 16,
     "metadata": {},
     "output_type": "execute_result"
    }
   ],
   "source": [
    "test_df = pd.read_csv(data_filepath / 'test.csv')\n",
    "test_df = pd.merge(test_df, ts_test, on='id', how='left')\n",
    "test_df = feature_engineering(test_df)\n",
    "test_df.loc[:,num_cols] = knn_imputer.transform(test_df[num_cols])\n",
    "# test_df.loc[:,num_cols] = KNNImputer(n_neighbors=5).fit_transform(test_df[num_cols])\n",
    "test_df.loc[:,cat_cols] = test_df[cat_cols].fillna('missing')\n",
    "_id = test_df.id\n",
    "test_df = pd.DataFrame(preproc_df_pipe.transform(test_df), columns=test_df[X.columns].columns)\n",
    "test_df['id'] = _id; del _id\n",
    "test_df['sii'] = clf.predict(test_df[X.columns])\n",
    "test_df.sii.value_counts()"
   ]
  },
  {
   "cell_type": "code",
   "execution_count": 17,
   "id": "47dac195",
   "metadata": {
    "execution": {
     "iopub.execute_input": "2024-10-24T13:06:32.012586Z",
     "iopub.status.busy": "2024-10-24T13:06:32.012120Z",
     "iopub.status.idle": "2024-10-24T13:06:33.188963Z",
     "shell.execute_reply": "2024-10-24T13:06:33.187469Z",
     "shell.execute_reply.started": "2024-10-24T13:06:32.012531Z"
    }
   },
   "outputs": [
    {
     "name": "stdout",
     "output_type": "stream",
     "text": [
      "4.0K\tsubmission.csv\n"
     ]
    }
   ],
   "source": [
    "test_df[['id', 'sii']].to_csv('submission.csv', index=False)\n",
    "!du -hs 'submission.csv'"
   ]
  },
  {
   "cell_type": "code",
   "execution_count": null,
   "id": "59df17e9",
   "metadata": {},
   "outputs": [],
   "source": [
    "Score: 0.327\n"
   ]
  },
  {
   "cell_type": "code",
   "execution_count": null,
   "id": "fe46174a",
   "metadata": {},
   "outputs": [],
   "source": []
  },
  {
   "cell_type": "code",
   "execution_count": null,
   "id": "9ef86256",
   "metadata": {},
   "outputs": [],
   "source": []
  }
 ],
 "metadata": {
  "kaggle": {
   "accelerator": "none",
   "dataSources": [
    {
     "databundleVersionId": 9643020,
     "sourceId": 81933,
     "sourceType": "competition"
    },
    {
     "datasetId": 5938542,
     "sourceId": 9709158,
     "sourceType": "datasetVersion"
    }
   ],
   "dockerImageVersionId": 30786,
   "isGpuEnabled": false,
   "isInternetEnabled": false,
   "language": "python",
   "sourceType": "notebook"
  },
  "kernelspec": {
   "display_name": "Python 3 (ipykernel)",
   "language": "python",
   "name": "python3"
  },
  "language_info": {
   "codemirror_mode": {
    "name": "ipython",
    "version": 3
   },
   "file_extension": ".py",
   "mimetype": "text/x-python",
   "name": "python",
   "nbconvert_exporter": "python",
   "pygments_lexer": "ipython3",
   "version": "3.10.15"
  }
 },
 "nbformat": 4,
 "nbformat_minor": 5
}
