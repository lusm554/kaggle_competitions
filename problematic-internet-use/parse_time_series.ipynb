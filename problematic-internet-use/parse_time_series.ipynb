{
 "cells": [
  {
   "cell_type": "markdown",
   "id": "bc59610e-572a-429b-b107-9c1e13cba6ee",
   "metadata": {},
   "source": [
    "# Import"
   ]
  },
  {
   "cell_type": "code",
   "execution_count": 1,
   "id": "5259a631-76e1-4daf-84c0-629a24faacee",
   "metadata": {},
   "outputs": [],
   "source": [
    "from pathlib import Path\n",
    "import pandas as pd\n",
    "import numpy as np\n",
    "from sklearn.metrics import cohen_kappa_score, classification_report, make_scorer\n",
    "from sklearn.impute import SimpleImputer, KNNImputer\n",
    "from sklearn.preprocessing import OrdinalEncoder, StandardScaler, OneHotEncoder, Normalizer, MinMaxScaler, RobustScaler, MaxAbsScaler\n",
    "from sklearn.model_selection import train_test_split, cross_validate, StratifiedShuffleSplit\n",
    "from sklearn.pipeline import Pipeline\n",
    "from sklearn.compose import ColumnTransformer\n",
    "from catboost import CatBoostClassifier\n",
    "import seaborn as sns\n",
    "\n",
    "pd.set_option('display.max_rows', 500)\n",
    "random_state = 42\n",
    "np.random.seed(random_state)\n",
    "data_filepath = Path('./data')\n",
    "# data_filepath = Path('/kaggle/input/child-mind-institute-problematic-internet-use')\n",
    "KAPPA_SCORER = make_scorer(\n",
    "    cohen_kappa_score, \n",
    "    greater_is_better=True, \n",
    "    weights='quadratic',\n",
    ")"
   ]
  },
  {
   "cell_type": "markdown",
   "id": "d52ff5c3-e4d7-4001-947e-9f012cd945ff",
   "metadata": {},
   "source": [
    "# Data"
   ]
  },
  {
   "cell_type": "code",
   "execution_count": 2,
   "id": "a00f3353-9d46-45bf-b180-786c1f08de05",
   "metadata": {},
   "outputs": [
    {
     "name": "stdout",
     "output_type": "stream",
     "text": [
      "6.2G\tdata/child-mind-institute-problematic-internet-use.zip\n",
      " 12K\tdata/data_dictionary.csv\n",
      "4.0K\tdata/sample_submission.csv\n",
      "7.9M\tdata/series_test.parquet\n",
      "6.3G\tdata/series_train.parquet\n",
      "8.0K\tdata/test.csv\n",
      "924K\tdata/train.csv\n"
     ]
    },
    {
     "data": {
      "text/plain": [
       "((3960, 82), (20, 59))"
      ]
     },
     "execution_count": 2,
     "metadata": {},
     "output_type": "execute_result"
    }
   ],
   "source": [
    "!du -hs $data_filepath/*\n",
    "train_df = pd.read_csv(data_filepath / 'train.csv')\n",
    "test_df = pd.read_csv(data_filepath / 'test.csv')\n",
    "train_df.shape, test_df.shape"
   ]
  },
  {
   "cell_type": "code",
   "execution_count": 3,
   "id": "7e4427e7-5b19-4299-bfd8-56aa983de9b1",
   "metadata": {},
   "outputs": [
    {
     "name": "stdout",
     "output_type": "stream",
     "text": [
      "<class 'pandas.core.frame.DataFrame'>\n",
      "RangeIndex: 314569149 entries, 0 to 314569148\n",
      "Data columns (total 14 columns):\n",
      " #   Column               Dtype   \n",
      "---  ------               -----   \n",
      " 0   step                 uint32  \n",
      " 1   X                    float32 \n",
      " 2   Y                    float32 \n",
      " 3   Z                    float32 \n",
      " 4   enmo                 float32 \n",
      " 5   anglez               float32 \n",
      " 6   non-wear_flag        float32 \n",
      " 7   light                float32 \n",
      " 8   battery_voltage      float32 \n",
      " 9   time_of_day          int64   \n",
      " 10  weekday              int8    \n",
      " 11  quarter              int8    \n",
      " 12  relative_date_PCIAT  float32 \n",
      " 13  id                   category\n",
      "dtypes: category(1), float32(9), int64(1), int8(2), uint32(1)\n",
      "memory usage: 15.2 GB\n",
      "CPU times: user 20.3 s, sys: 18.4 s, total: 38.7 s\n",
      "Wall time: 35.4 s\n"
     ]
    }
   ],
   "source": [
    "%%time\n",
    "train_ts = pd.read_parquet('data/series_train.parquet')\n",
    "train_ts.info()"
   ]
  },
  {
   "cell_type": "code",
   "execution_count": null,
   "id": "6745a624-e7b8-49fa-8054-3e65ee96f161",
   "metadata": {},
   "outputs": [],
   "source": []
  },
  {
   "cell_type": "code",
   "execution_count": null,
   "id": "79685175-dc91-4117-a05f-9d62a8fc9685",
   "metadata": {},
   "outputs": [],
   "source": []
  },
  {
   "cell_type": "code",
   "execution_count": null,
   "id": "eff7d589-de97-4d83-9a0c-6b44052deb99",
   "metadata": {},
   "outputs": [],
   "source": []
  },
  {
   "cell_type": "code",
   "execution_count": null,
   "id": "a4c6b92c-914c-4b16-a466-5f9b63cbdcdc",
   "metadata": {},
   "outputs": [],
   "source": []
  },
  {
   "cell_type": "code",
   "execution_count": null,
   "id": "0a172433-618c-4204-b976-0201d5187a42",
   "metadata": {},
   "outputs": [],
   "source": []
  },
  {
   "cell_type": "code",
   "execution_count": null,
   "id": "67046fa0-617a-4ce4-a589-d1aa466dbade",
   "metadata": {},
   "outputs": [],
   "source": []
  },
  {
   "cell_type": "code",
   "execution_count": null,
   "id": "6e64b694-6a0a-4840-b1da-0ecd58dde95f",
   "metadata": {},
   "outputs": [],
   "source": []
  },
  {
   "cell_type": "code",
   "execution_count": null,
   "id": "eb9d0347-408e-4e43-b9df-d444265ca8fb",
   "metadata": {},
   "outputs": [],
   "source": []
  },
  {
   "cell_type": "code",
   "execution_count": null,
   "id": "0649b488-4813-418d-9885-33556044091f",
   "metadata": {},
   "outputs": [],
   "source": []
  }
 ],
 "metadata": {
  "kernelspec": {
   "display_name": "Python 3 (ipykernel)",
   "language": "python",
   "name": "python3"
  },
  "language_info": {
   "codemirror_mode": {
    "name": "ipython",
    "version": 3
   },
   "file_extension": ".py",
   "mimetype": "text/x-python",
   "name": "python",
   "nbconvert_exporter": "python",
   "pygments_lexer": "ipython3",
   "version": "3.12.4"
  }
 },
 "nbformat": 4,
 "nbformat_minor": 5
}
