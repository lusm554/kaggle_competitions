{
 "cells": [
  {
   "cell_type": "markdown",
   "id": "c3d3b774",
   "metadata": {},
   "source": [
    "# Import"
   ]
  },
  {
   "cell_type": "code",
   "execution_count": 1,
   "id": "30363a92",
   "metadata": {
    "execution": {
     "iopub.execute_input": "2024-10-21T16:09:23.479706Z",
     "iopub.status.busy": "2024-10-21T16:09:23.479237Z",
     "iopub.status.idle": "2024-10-21T16:09:25.224651Z",
     "shell.execute_reply": "2024-10-21T16:09:25.223292Z",
     "shell.execute_reply.started": "2024-10-21T16:09:23.479660Z"
    }
   },
   "outputs": [],
   "source": [
    "import pandas as pd\n",
    "from sklearn.metrics import cohen_kappa_score, classification_report\n",
    "from sklearn.preprocessing import LabelEncoder, StandardScaler\n",
    "from sklearn.model_selection import train_test_split\n",
    "from catboost import CatBoostClassifier\n",
    "pd.set_option('display.max_rows', 500)\n",
    "random_state = 42"
   ]
  },
  {
   "cell_type": "markdown",
   "id": "89513667",
   "metadata": {},
   "source": [
    "# Load data"
   ]
  },
  {
   "cell_type": "code",
   "execution_count": 2,
   "id": "dd4761d9",
   "metadata": {
    "execution": {
     "iopub.execute_input": "2024-10-21T16:09:32.332105Z",
     "iopub.status.busy": "2024-10-21T16:09:32.331337Z",
     "iopub.status.idle": "2024-10-21T16:09:32.439177Z",
     "shell.execute_reply": "2024-10-21T16:09:32.437898Z",
     "shell.execute_reply.started": "2024-10-21T16:09:32.332043Z"
    }
   },
   "outputs": [],
   "source": [
    "train_df = pd.read_csv('../input/child-mind-institute-problematic-internet-use/train.csv')\n",
    "test_df = pd.read_csv('../input/child-mind-institute-problematic-internet-use/test.csv')"
   ]
  },
  {
   "cell_type": "code",
   "execution_count": 3,
   "id": "48a9cc61",
   "metadata": {
    "execution": {
     "iopub.execute_input": "2024-10-21T16:09:39.356514Z",
     "iopub.status.busy": "2024-10-21T16:09:39.356043Z",
     "iopub.status.idle": "2024-10-21T16:09:39.361484Z",
     "shell.execute_reply": "2024-10-21T16:09:39.360209Z",
     "shell.execute_reply.started": "2024-10-21T16:09:39.356464Z"
    }
   },
   "outputs": [],
   "source": [
    "# test_df = train_df[train_df.id.isin(submission_id)]\n",
    "# test_df.drop(columns='sii', inplace=True)\n",
    "# train_df = train_df[~train_df.id.isin(submission_id)]\n",
    "# train_df.shape, test_df.shape"
   ]
  },
  {
   "cell_type": "code",
   "execution_count": 4,
   "id": "650a9bd9",
   "metadata": {
    "execution": {
     "iopub.execute_input": "2024-10-21T16:09:40.942494Z",
     "iopub.status.busy": "2024-10-21T16:09:40.942048Z",
     "iopub.status.idle": "2024-10-21T16:09:40.958883Z",
     "shell.execute_reply": "2024-10-21T16:09:40.957666Z",
     "shell.execute_reply.started": "2024-10-21T16:09:40.942451Z"
    }
   },
   "outputs": [
    {
     "data": {
      "text/plain": [
       "{'00008ff9',\n",
       " '000fd460',\n",
       " '00105258',\n",
       " '00115b9f',\n",
       " '0016bb22',\n",
       " '001f3379',\n",
       " '0038ba98',\n",
       " '0068a485',\n",
       " '0069fbed',\n",
       " '0083e397',\n",
       " '0087dd65',\n",
       " '00abe655',\n",
       " '00ae59c9',\n",
       " '00af6387',\n",
       " '00bd4359',\n",
       " '00c0cd71',\n",
       " '00d56d4b',\n",
       " '00d9913d',\n",
       " '00e6167c',\n",
       " '00ebc35d'}"
      ]
     },
     "execution_count": 4,
     "metadata": {},
     "output_type": "execute_result"
    }
   ],
   "source": [
    "set(train_df.id) & set(test_df.id)"
   ]
  },
  {
   "cell_type": "markdown",
   "id": "924e2e15",
   "metadata": {},
   "source": [
    "# Filter missing target"
   ]
  },
  {
   "cell_type": "code",
   "execution_count": 5,
   "id": "ee0a37e7",
   "metadata": {
    "execution": {
     "iopub.execute_input": "2024-10-21T16:09:47.445036Z",
     "iopub.status.busy": "2024-10-21T16:09:47.444541Z",
     "iopub.status.idle": "2024-10-21T16:09:47.465228Z",
     "shell.execute_reply": "2024-10-21T16:09:47.463917Z",
     "shell.execute_reply.started": "2024-10-21T16:09:47.444987Z"
    }
   },
   "outputs": [
    {
     "data": {
      "text/plain": [
       "(2736, 82)"
      ]
     },
     "execution_count": 5,
     "metadata": {},
     "output_type": "execute_result"
    }
   ],
   "source": [
    "train_df = train_df.dropna(subset='sii')\n",
    "train_df.shape"
   ]
  },
  {
   "cell_type": "code",
   "execution_count": 6,
   "id": "5f2a2f4a",
   "metadata": {
    "execution": {
     "iopub.execute_input": "2024-10-21T16:09:50.300218Z",
     "iopub.status.busy": "2024-10-21T16:09:50.299753Z",
     "iopub.status.idle": "2024-10-21T16:09:50.320039Z",
     "shell.execute_reply": "2024-10-21T16:09:50.318652Z",
     "shell.execute_reply.started": "2024-10-21T16:09:50.300175Z"
    }
   },
   "outputs": [
    {
     "data": {
      "text/plain": [
       "sii\n",
       "0.0    1594\n",
       "1.0     730\n",
       "2.0     378\n",
       "3.0      34\n",
       "Name: count, dtype: int64"
      ]
     },
     "execution_count": 6,
     "metadata": {},
     "output_type": "execute_result"
    }
   ],
   "source": [
    "train_df.sii.value_counts()"
   ]
  },
  {
   "cell_type": "markdown",
   "id": "be8565a9",
   "metadata": {},
   "source": [
    "# Filter columns with missing vals"
   ]
  },
  {
   "cell_type": "code",
   "execution_count": 9,
   "id": "9c8d871a",
   "metadata": {
    "execution": {
     "iopub.execute_input": "2024-10-21T16:10:28.149576Z",
     "iopub.status.busy": "2024-10-21T16:10:28.149088Z",
     "iopub.status.idle": "2024-10-21T16:10:28.169670Z",
     "shell.execute_reply": "2024-10-21T16:10:28.168452Z",
     "shell.execute_reply.started": "2024-10-21T16:10:28.149528Z"
    }
   },
   "outputs": [
    {
     "data": {
      "text/plain": [
       "PAQ_A-PAQ_A_Total                         0.867325\n",
       "PAQ_A-Season                              0.867325\n",
       "Physical-Waist_Circumference              0.823465\n",
       "Fitness_Endurance-Time_Sec                0.733918\n",
       "Fitness_Endurance-Time_Mins               0.733918\n",
       "Fitness_Endurance-Max_Stage               0.732822\n",
       "FGC-FGC_GSD_Zone                          0.684211\n",
       "FGC-FGC_GSND_Zone                         0.684211\n",
       "FGC-FGC_GSD                               0.681652\n",
       "FGC-FGC_GSND                              0.681287\n",
       "Fitness_Endurance-Season                  0.539474\n",
       "PAQ_C-PAQ_C_Total                         0.473684\n",
       "PAQ_C-Season                              0.473684\n",
       "BIA-BIA_Fat                               0.337354\n",
       "BIA-BIA_SMM                               0.337354\n",
       "BIA-BIA_BMC                               0.337354\n",
       "BIA-BIA_BMI                               0.337354\n",
       "BIA-BIA_BMR                               0.337354\n",
       "BIA-BIA_DEE                               0.337354\n",
       "BIA-BIA_ECW                               0.337354\n",
       "BIA-BIA_Frame_num                         0.337354\n",
       "BIA-BIA_TBW                               0.337354\n",
       "BIA-BIA_LST                               0.337354\n",
       "BIA-BIA_FFM                               0.337354\n",
       "BIA-BIA_FFMI                              0.337354\n",
       "BIA-BIA_FMI                               0.337354\n",
       "BIA-BIA_LDM                               0.337354\n",
       "BIA-BIA_ICW                               0.337354\n",
       "BIA-BIA_Activity_Level_num                0.337354\n",
       "BIA-Season                                0.326023\n",
       "FGC-FGC_PU_Zone                           0.314693\n",
       "FGC-FGC_SRL_Zone                          0.313962\n",
       "FGC-FGC_SRR_Zone                          0.313231\n",
       "FGC-FGC_CU_Zone                           0.311404\n",
       "FGC-FGC_TL_Zone                           0.311038\n",
       "FGC-FGC_PU                                0.302266\n",
       "FGC-FGC_SRL                               0.301535\n",
       "FGC-FGC_SRR                               0.300804\n",
       "FGC-FGC_CU                                0.298611\n",
       "FGC-FGC_TL                                0.298611\n",
       "CGAS-CGAS_Score                           0.144006\n",
       "CGAS-Season                               0.144006\n",
       "Physical-Systolic_BP                      0.094298\n",
       "Physical-Diastolic_BP                     0.094298\n",
       "Physical-HeartRate                        0.091374\n",
       "SDS-SDS_Total_T                           0.077120\n",
       "SDS-Season                                0.076389\n",
       "SDS-SDS_Total_Raw                         0.076389\n",
       "Physical-BMI                              0.076389\n",
       "Physical-Height                           0.075292\n",
       "Physical-Weight                           0.059942\n",
       "Physical-Season                           0.051535\n",
       "FGC-Season                                0.032529\n",
       "PreInt_EduHx-computerinternet_hoursday    0.029971\n",
       "PreInt_EduHx-Season                       0.006213\n",
       "Basic_Demos-Age                           0.000000\n",
       "Basic_Demos-Sex                           0.000000\n",
       "Basic_Demos-Enroll_Season                 0.000000\n",
       "dtype: float64"
      ]
     },
     "execution_count": 9,
     "metadata": {},
     "output_type": "execute_result"
    }
   ],
   "source": [
    "base_features = test_df.drop(columns=['id', 'sii'], errors='ignore').columns.tolist()\n",
    "na_ratio = train_df[base_features].isna().mean().sort_values(ascending=False)\n",
    "na_ratio"
   ]
  },
  {
   "cell_type": "code",
   "execution_count": 10,
   "id": "fa2d47ae",
   "metadata": {
    "execution": {
     "iopub.execute_input": "2024-10-21T16:10:31.588365Z",
     "iopub.status.busy": "2024-10-21T16:10:31.587726Z",
     "iopub.status.idle": "2024-10-21T16:10:31.602929Z",
     "shell.execute_reply": "2024-10-21T16:10:31.601083Z",
     "shell.execute_reply.started": "2024-10-21T16:10:31.588304Z"
    }
   },
   "outputs": [
    {
     "data": {
      "text/plain": [
       "CGAS-CGAS_Score                           0.144006\n",
       "CGAS-Season                               0.144006\n",
       "Physical-Systolic_BP                      0.094298\n",
       "Physical-Diastolic_BP                     0.094298\n",
       "Physical-HeartRate                        0.091374\n",
       "SDS-SDS_Total_T                           0.077120\n",
       "SDS-Season                                0.076389\n",
       "SDS-SDS_Total_Raw                         0.076389\n",
       "Physical-BMI                              0.076389\n",
       "Physical-Height                           0.075292\n",
       "Physical-Weight                           0.059942\n",
       "Physical-Season                           0.051535\n",
       "FGC-Season                                0.032529\n",
       "PreInt_EduHx-computerinternet_hoursday    0.029971\n",
       "PreInt_EduHx-Season                       0.006213\n",
       "Basic_Demos-Age                           0.000000\n",
       "Basic_Demos-Sex                           0.000000\n",
       "Basic_Demos-Enroll_Season                 0.000000\n",
       "dtype: float64"
      ]
     },
     "execution_count": 10,
     "metadata": {},
     "output_type": "execute_result"
    }
   ],
   "source": [
    "threshold = .2\n",
    "base_features = na_ratio[na_ratio < threshold].index\n",
    "na_ratio[base_features]"
   ]
  },
  {
   "cell_type": "markdown",
   "id": "b81482ca",
   "metadata": {},
   "source": [
    "# Split cat num cols"
   ]
  },
  {
   "cell_type": "code",
   "execution_count": 11,
   "id": "88a4f32e",
   "metadata": {
    "execution": {
     "iopub.execute_input": "2024-10-21T16:10:34.886706Z",
     "iopub.status.busy": "2024-10-21T16:10:34.886137Z",
     "iopub.status.idle": "2024-10-21T16:10:34.899227Z",
     "shell.execute_reply": "2024-10-21T16:10:34.897555Z",
     "shell.execute_reply.started": "2024-10-21T16:10:34.886643Z"
    }
   },
   "outputs": [],
   "source": [
    "cat_cols = train_df[base_features].select_dtypes(include='object').columns\n",
    "num_cols = train_df[base_features].select_dtypes(exclude='object').columns"
   ]
  },
  {
   "cell_type": "code",
   "execution_count": 12,
   "id": "f25a7910",
   "metadata": {
    "execution": {
     "iopub.execute_input": "2024-10-21T16:10:36.193866Z",
     "iopub.status.busy": "2024-10-21T16:10:36.193363Z",
     "iopub.status.idle": "2024-10-21T16:10:36.210377Z",
     "shell.execute_reply": "2024-10-21T16:10:36.209014Z",
     "shell.execute_reply.started": "2024-10-21T16:10:36.193796Z"
    }
   },
   "outputs": [
    {
     "data": {
      "text/plain": [
       "CGAS-Season                  4\n",
       "SDS-Season                   4\n",
       "Physical-Season              4\n",
       "FGC-Season                   4\n",
       "PreInt_EduHx-Season          4\n",
       "Basic_Demos-Enroll_Season    4\n",
       "dtype: int64"
      ]
     },
     "execution_count": 12,
     "metadata": {},
     "output_type": "execute_result"
    }
   ],
   "source": [
    "train_df[cat_cols].nunique()"
   ]
  },
  {
   "cell_type": "markdown",
   "id": "5c0be101",
   "metadata": {},
   "source": [
    "# Handle missing values"
   ]
  },
  {
   "cell_type": "code",
   "execution_count": 13,
   "id": "766ab4ff",
   "metadata": {
    "execution": {
     "iopub.execute_input": "2024-10-21T16:10:38.141111Z",
     "iopub.status.busy": "2024-10-21T16:10:38.139521Z",
     "iopub.status.idle": "2024-10-21T16:10:38.169152Z",
     "shell.execute_reply": "2024-10-21T16:10:38.167711Z",
     "shell.execute_reply.started": "2024-10-21T16:10:38.141027Z"
    }
   },
   "outputs": [],
   "source": [
    "def handle_missing(df, cat_cols, num_cols):\n",
    "    df[cat_cols] = df[cat_cols].fillna('missing')\n",
    "    df[num_cols] = df[num_cols].fillna(df[num_cols].mean())\n",
    "    return df\n",
    "\n",
    "train_df = handle_missing(train_df, cat_cols, num_cols)"
   ]
  },
  {
   "cell_type": "markdown",
   "id": "f22ffcdf",
   "metadata": {},
   "source": [
    "# Split train test"
   ]
  },
  {
   "cell_type": "code",
   "execution_count": 14,
   "id": "715c1ab5",
   "metadata": {
    "execution": {
     "iopub.execute_input": "2024-10-21T16:10:40.771652Z",
     "iopub.status.busy": "2024-10-21T16:10:40.770778Z",
     "iopub.status.idle": "2024-10-21T16:10:40.787432Z",
     "shell.execute_reply": "2024-10-21T16:10:40.785769Z",
     "shell.execute_reply.started": "2024-10-21T16:10:40.771592Z"
    }
   },
   "outputs": [
    {
     "data": {
      "text/plain": [
       "((2736, 18), (2736,))"
      ]
     },
     "execution_count": 14,
     "metadata": {},
     "output_type": "execute_result"
    }
   ],
   "source": [
    "X, y = train_df[base_features].drop(columns='sii', errors='ignore'), train_df.sii\n",
    "X.shape, y.shape"
   ]
  },
  {
   "cell_type": "code",
   "execution_count": 15,
   "id": "f6a442b7",
   "metadata": {
    "execution": {
     "iopub.execute_input": "2024-10-21T16:10:43.603754Z",
     "iopub.status.busy": "2024-10-21T16:10:43.603302Z",
     "iopub.status.idle": "2024-10-21T16:10:43.622209Z",
     "shell.execute_reply": "2024-10-21T16:10:43.621004Z",
     "shell.execute_reply.started": "2024-10-21T16:10:43.603710Z"
    }
   },
   "outputs": [
    {
     "data": {
      "text/plain": [
       "((2188, 18), (548, 18), (2188,), (548,))"
      ]
     },
     "execution_count": 15,
     "metadata": {},
     "output_type": "execute_result"
    }
   ],
   "source": [
    "X_train, X_test, y_train, y_test = train_test_split(X, y, test_size=.2, stratify=y, random_state=random_state)\n",
    "X_train.shape, X_test.shape, y_train.shape, y_test.shape"
   ]
  },
  {
   "cell_type": "markdown",
   "id": "c783e7fc",
   "metadata": {},
   "source": [
    "# Encoder & scaler"
   ]
  },
  {
   "cell_type": "code",
   "execution_count": 16,
   "id": "6bf66eba",
   "metadata": {
    "execution": {
     "iopub.execute_input": "2024-10-21T16:10:45.194534Z",
     "iopub.status.busy": "2024-10-21T16:10:45.193916Z",
     "iopub.status.idle": "2024-10-21T16:10:45.228407Z",
     "shell.execute_reply": "2024-10-21T16:10:45.226628Z",
     "shell.execute_reply.started": "2024-10-21T16:10:45.194465Z"
    }
   },
   "outputs": [
    {
     "data": {
      "text/plain": [
       "((2188, 18), (548, 18))"
      ]
     },
     "execution_count": 16,
     "metadata": {},
     "output_type": "execute_result"
    }
   ],
   "source": [
    "scaler = StandardScaler()\n",
    "le = LabelEncoder()\n",
    "\n",
    "for catf in cat_cols:\n",
    "    X_train[catf] = le.fit_transform(X_train[catf])\n",
    "    X_test[catf] = le.fit_transform(X_test[catf])\n",
    "\n",
    "X_train = scaler.fit_transform(X_train)\n",
    "X_test = scaler.transform(X_test)\n",
    "X_train.shape, X_test.shape"
   ]
  },
  {
   "cell_type": "markdown",
   "id": "1e02932a",
   "metadata": {},
   "source": [
    "# Validation"
   ]
  },
  {
   "cell_type": "code",
   "execution_count": 17,
   "id": "7f5eb924",
   "metadata": {
    "execution": {
     "iopub.execute_input": "2024-10-21T16:10:47.110803Z",
     "iopub.status.busy": "2024-10-21T16:10:47.109802Z",
     "iopub.status.idle": "2024-10-21T16:10:52.483812Z",
     "shell.execute_reply": "2024-10-21T16:10:52.482430Z",
     "shell.execute_reply.started": "2024-10-21T16:10:47.110747Z"
    }
   },
   "outputs": [
    {
     "name": "stdout",
     "output_type": "stream",
     "text": [
      "0.18241907663640822\n",
      "              precision    recall  f1-score   support\n",
      "\n",
      "         0.0       0.68      0.80      0.74       319\n",
      "         1.0       0.34      0.27      0.30       146\n",
      "         2.0       0.29      0.20      0.23        76\n",
      "         3.0       0.00      0.00      0.00         7\n",
      "\n",
      "    accuracy                           0.57       548\n",
      "   macro avg       0.33      0.32      0.32       548\n",
      "weighted avg       0.53      0.57      0.54       548\n",
      "\n"
     ]
    }
   ],
   "source": [
    "clf = CatBoostClassifier(verbose=0)\n",
    "clf.fit(X_train, y_train)\n",
    "print(cohen_kappa_score(y_test, clf.predict(X_test)))\n",
    "print(classification_report(y_test, clf.predict(X_test)))"
   ]
  },
  {
   "cell_type": "code",
   "execution_count": 18,
   "id": "c7251e70",
   "metadata": {
    "execution": {
     "iopub.execute_input": "2024-10-21T16:11:04.912026Z",
     "iopub.status.busy": "2024-10-21T16:11:04.911486Z",
     "iopub.status.idle": "2024-10-21T16:11:04.939424Z",
     "shell.execute_reply": "2024-10-21T16:11:04.937403Z",
     "shell.execute_reply.started": "2024-10-21T16:11:04.911975Z"
    }
   },
   "outputs": [],
   "source": [
    "test_id = test_df.id\n",
    "test_df = test_df[base_features].copy()\n",
    "for catf in cat_cols:\n",
    "    test_df[catf] = le.fit_transform(test_df[catf])\n",
    "test_df = pd.DataFrame(scaler.transform(test_df), columns=test_df.columns)\n",
    "test_df['sii'] = clf.predict(test_df)\n",
    "test_df['sii'] = test_df['sii'].astype(int)\n",
    "test_df['id'] = test_id"
   ]
  },
  {
   "cell_type": "code",
   "execution_count": null,
   "id": "6e3414d4",
   "metadata": {},
   "outputs": [],
   "source": [
    "# !rm -rf catboost_info"
   ]
  },
  {
   "cell_type": "code",
   "execution_count": 19,
   "id": "780f4bf2",
   "metadata": {
    "execution": {
     "iopub.execute_input": "2024-10-21T16:11:13.844600Z",
     "iopub.status.busy": "2024-10-21T16:11:13.843909Z",
     "iopub.status.idle": "2024-10-21T16:11:13.861408Z",
     "shell.execute_reply": "2024-10-21T16:11:13.859404Z",
     "shell.execute_reply.started": "2024-10-21T16:11:13.844543Z"
    }
   },
   "outputs": [],
   "source": [
    "test_df[['id', 'sii']].to_csv('submission.csv', index=False)"
   ]
  },
  {
   "cell_type": "code",
   "execution_count": 20,
   "id": "308e9b09",
   "metadata": {
    "execution": {
     "iopub.execute_input": "2024-10-21T16:11:15.254946Z",
     "iopub.status.busy": "2024-10-21T16:11:15.254334Z",
     "iopub.status.idle": "2024-10-21T16:11:16.445586Z",
     "shell.execute_reply": "2024-10-21T16:11:16.444282Z",
     "shell.execute_reply.started": "2024-10-21T16:11:15.254880Z"
    }
   },
   "outputs": [
    {
     "name": "stdout",
     "output_type": "stream",
     "text": [
      "4.0K\tsubmission.csv\n"
     ]
    }
   ],
   "source": [
    "!du -hs submission.csv"
   ]
  },
  {
   "cell_type": "code",
   "execution_count": null,
   "id": "cfc1eea7",
   "metadata": {},
   "outputs": [],
   "source": []
  }
 ],
 "metadata": {
  "kaggle": {
   "accelerator": "none",
   "dataSources": [
    {
     "databundleVersionId": 9643020,
     "sourceId": 81933,
     "sourceType": "competition"
    }
   ],
   "dockerImageVersionId": 30786,
   "isGpuEnabled": false,
   "isInternetEnabled": false,
   "language": "python",
   "sourceType": "notebook"
  },
  "kernelspec": {
   "display_name": "Python 3 (ipykernel)",
   "language": "python",
   "name": "python3"
  },
  "language_info": {
   "codemirror_mode": {
    "name": "ipython",
    "version": 3
   },
   "file_extension": ".py",
   "mimetype": "text/x-python",
   "name": "python",
   "nbconvert_exporter": "python",
   "pygments_lexer": "ipython3",
   "version": "3.12.4"
  }
 },
 "nbformat": 4,
 "nbformat_minor": 5
}
