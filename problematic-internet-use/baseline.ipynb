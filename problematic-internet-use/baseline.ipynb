{
 "cells": [
  {
   "cell_type": "code",
   "execution_count": 1,
   "id": "4bd680a0-c6f5-477f-8633-2997a7d98b86",
   "metadata": {},
   "outputs": [],
   "source": [
    "import pandas as pd\n",
    "from sklearn.metrics import cohen_kappa_score\n",
    "from sklearn.preprocessing import LabelEncoder, StandardScaler\n",
    "pd.set_option('display.max_rows', 500)"
   ]
  },
  {
   "cell_type": "code",
   "execution_count": 2,
   "id": "118740ed-7054-4a28-81e4-e090f0ac275a",
   "metadata": {},
   "outputs": [
    {
     "name": "stdout",
     "output_type": "stream",
     "text": [
      "6.2G\tdata/child-mind-institute-problematic-internet-use.zip\n",
      " 12K\tdata/data_dictionary.csv\n",
      "4.0K\tdata/sample_submission.csv\n",
      "7.9M\tdata/series_test.parquet\n",
      "6.3G\tdata/series_train.parquet\n",
      "8.0K\tdata/test.csv\n",
      "924K\tdata/train.csv\n"
     ]
    }
   ],
   "source": [
    "!du -hs data/*"
   ]
  },
  {
   "cell_type": "code",
   "execution_count": 3,
   "id": "e620a7e9-257e-439f-a728-c25da8ea38df",
   "metadata": {},
   "outputs": [
    {
     "data": {
      "text/plain": [
       "((3960, 81), (20, 59))"
      ]
     },
     "execution_count": 3,
     "metadata": {},
     "output_type": "execute_result"
    }
   ],
   "source": [
    "train_df = pd.read_csv('data/train.csv')\n",
    "test_df = pd.read_csv('data/test.csv')\n",
    "test_id = test_df.id\n",
    "train_df.drop(columns='id', inplace=True)\n",
    "base_features = test_df.drop(columns='id').columns\n",
    "train_df.shape, test_df.shape"
   ]
  },
  {
   "cell_type": "code",
   "execution_count": 4,
   "id": "dda59d54-8696-4b4e-9e4b-8eae6325d28e",
   "metadata": {},
   "outputs": [
    {
     "data": {
      "text/plain": [
       "sii\n",
       "0.0    1594\n",
       "NaN    1224\n",
       "1.0     730\n",
       "2.0     378\n",
       "3.0      34\n",
       "Name: count, dtype: int64"
      ]
     },
     "execution_count": 4,
     "metadata": {},
     "output_type": "execute_result"
    }
   ],
   "source": [
    "train_df.sii.value_counts(sort=True, dropna=False)"
   ]
  },
  {
   "cell_type": "code",
   "execution_count": 5,
   "id": "813dce56-e860-4134-a548-0c4140db59a9",
   "metadata": {},
   "outputs": [
    {
     "data": {
      "text/plain": [
       "(2736, 81)"
      ]
     },
     "execution_count": 5,
     "metadata": {},
     "output_type": "execute_result"
    }
   ],
   "source": [
    "train_df = train_df.dropna(subset='sii')\n",
    "train_df.shape"
   ]
  },
  {
   "cell_type": "code",
   "execution_count": 6,
   "id": "c99f9dde-759d-458d-b243-de6ff0d684e0",
   "metadata": {},
   "outputs": [
    {
     "data": {
      "text/plain": [
       "PAQ_A-PAQ_A_Total                         0.867325\n",
       "PAQ_A-Season                              0.867325\n",
       "Physical-Waist_Circumference              0.823465\n",
       "Fitness_Endurance-Time_Sec                0.733918\n",
       "Fitness_Endurance-Time_Mins               0.733918\n",
       "Fitness_Endurance-Max_Stage               0.732822\n",
       "FGC-FGC_GSD_Zone                          0.684211\n",
       "FGC-FGC_GSND_Zone                         0.684211\n",
       "FGC-FGC_GSD                               0.681652\n",
       "FGC-FGC_GSND                              0.681287\n",
       "Fitness_Endurance-Season                  0.539474\n",
       "PAQ_C-PAQ_C_Total                         0.473684\n",
       "PAQ_C-Season                              0.473684\n",
       "BIA-BIA_Fat                               0.337354\n",
       "BIA-BIA_SMM                               0.337354\n",
       "BIA-BIA_BMC                               0.337354\n",
       "BIA-BIA_BMI                               0.337354\n",
       "BIA-BIA_BMR                               0.337354\n",
       "BIA-BIA_DEE                               0.337354\n",
       "BIA-BIA_ECW                               0.337354\n",
       "BIA-BIA_Frame_num                         0.337354\n",
       "BIA-BIA_TBW                               0.337354\n",
       "BIA-BIA_LST                               0.337354\n",
       "BIA-BIA_FFM                               0.337354\n",
       "BIA-BIA_FFMI                              0.337354\n",
       "BIA-BIA_FMI                               0.337354\n",
       "BIA-BIA_LDM                               0.337354\n",
       "BIA-BIA_ICW                               0.337354\n",
       "BIA-BIA_Activity_Level_num                0.337354\n",
       "BIA-Season                                0.326023\n",
       "FGC-FGC_PU_Zone                           0.314693\n",
       "FGC-FGC_SRL_Zone                          0.313962\n",
       "FGC-FGC_SRR_Zone                          0.313231\n",
       "FGC-FGC_CU_Zone                           0.311404\n",
       "FGC-FGC_TL_Zone                           0.311038\n",
       "FGC-FGC_PU                                0.302266\n",
       "FGC-FGC_SRL                               0.301535\n",
       "FGC-FGC_SRR                               0.300804\n",
       "FGC-FGC_CU                                0.298611\n",
       "FGC-FGC_TL                                0.298611\n",
       "CGAS-CGAS_Score                           0.144006\n",
       "CGAS-Season                               0.144006\n",
       "Physical-Systolic_BP                      0.094298\n",
       "Physical-Diastolic_BP                     0.094298\n",
       "Physical-HeartRate                        0.091374\n",
       "SDS-SDS_Total_T                           0.077120\n",
       "SDS-Season                                0.076389\n",
       "SDS-SDS_Total_Raw                         0.076389\n",
       "Physical-BMI                              0.076389\n",
       "Physical-Height                           0.075292\n",
       "Physical-Weight                           0.059942\n",
       "Physical-Season                           0.051535\n",
       "FGC-Season                                0.032529\n",
       "PreInt_EduHx-computerinternet_hoursday    0.029971\n",
       "PreInt_EduHx-Season                       0.006213\n",
       "Basic_Demos-Age                           0.000000\n",
       "Basic_Demos-Sex                           0.000000\n",
       "Basic_Demos-Enroll_Season                 0.000000\n",
       "dtype: float64"
      ]
     },
     "execution_count": 6,
     "metadata": {},
     "output_type": "execute_result"
    }
   ],
   "source": [
    "na_ratio = train_df[base_features].isna().mean().sort_values(ascending=False)\n",
    "na_ratio"
   ]
  },
  {
   "cell_type": "code",
   "execution_count": 7,
   "id": "b8cb3da4-f045-4cec-b36b-7a3c0755f818",
   "metadata": {},
   "outputs": [],
   "source": [
    "threshold = .4\n",
    "base_features = na_ratio[na_ratio < threshold].index"
   ]
  },
  {
   "cell_type": "code",
   "execution_count": 8,
   "id": "c37bd4d8-3176-479d-839d-fb4b138304b7",
   "metadata": {},
   "outputs": [],
   "source": [
    "def handle_missing(df):\n",
    "    cat_cols = df.select_dtypes(include='object').columns\n",
    "    num_cols = df.select_dtypes(exclude='object').columns\n",
    "    df[cat_cols] = df[cat_cols].fillna('missing')\n",
    "    df[num_cols] = df[num_cols].fillna(df[num_cols].mean())\n",
    "    return df\n",
    "\n",
    "train_df = handle_missing(train_df)\n",
    "test_df = handle_missing(test_df)"
   ]
  },
  {
   "cell_type": "code",
   "execution_count": 9,
   "id": "417f600b-6d9d-4573-a883-cc727049cd69",
   "metadata": {},
   "outputs": [
    {
     "data": {
      "text/plain": [
       "Index(['Basic_Demos-Enroll_Season', 'Basic_Demos-Age', 'Basic_Demos-Sex',\n",
       "       'CGAS-Season', 'CGAS-CGAS_Score', 'Physical-Season', 'Physical-BMI',\n",
       "       'Physical-Height', 'Physical-Weight', 'Physical-Waist_Circumference',\n",
       "       'Physical-Diastolic_BP', 'Physical-HeartRate', 'Physical-Systolic_BP',\n",
       "       'Fitness_Endurance-Season', 'Fitness_Endurance-Max_Stage',\n",
       "       'Fitness_Endurance-Time_Mins', 'Fitness_Endurance-Time_Sec',\n",
       "       'FGC-Season', 'FGC-FGC_CU', 'FGC-FGC_CU_Zone', 'FGC-FGC_GSND',\n",
       "       'FGC-FGC_GSND_Zone', 'FGC-FGC_GSD', 'FGC-FGC_GSD_Zone', 'FGC-FGC_PU',\n",
       "       'FGC-FGC_PU_Zone', 'FGC-FGC_SRL', 'FGC-FGC_SRL_Zone', 'FGC-FGC_SRR',\n",
       "       'FGC-FGC_SRR_Zone', 'FGC-FGC_TL', 'FGC-FGC_TL_Zone', 'BIA-Season',\n",
       "       'BIA-BIA_Activity_Level_num', 'BIA-BIA_BMC', 'BIA-BIA_BMI',\n",
       "       'BIA-BIA_BMR', 'BIA-BIA_DEE', 'BIA-BIA_ECW', 'BIA-BIA_FFM',\n",
       "       'BIA-BIA_FFMI', 'BIA-BIA_FMI', 'BIA-BIA_Fat', 'BIA-BIA_Frame_num',\n",
       "       'BIA-BIA_ICW', 'BIA-BIA_LDM', 'BIA-BIA_LST', 'BIA-BIA_SMM',\n",
       "       'BIA-BIA_TBW', 'PAQ_A-Season', 'PAQ_A-PAQ_A_Total', 'PAQ_C-Season',\n",
       "       'PAQ_C-PAQ_C_Total', 'SDS-Season', 'SDS-SDS_Total_Raw',\n",
       "       'SDS-SDS_Total_T', 'PreInt_EduHx-Season',\n",
       "       'PreInt_EduHx-computerinternet_hoursday'],\n",
       "      dtype='object')"
      ]
     },
     "execution_count": 9,
     "metadata": {},
     "output_type": "execute_result"
    }
   ],
   "source": [
    "base_features = test_df.drop(columns='id').columns\n",
    "base_features"
   ]
  },
  {
   "cell_type": "code",
   "execution_count": 12,
   "id": "fe0c5e29-3c7b-4ada-8c06-0311aac38569",
   "metadata": {},
   "outputs": [],
   "source": [
    "cat_features = train_df.select_dtypes(include='object').columns\n",
    "\n",
    "scaler = StandardScaler()\n",
    "le = LabelEncoder()\n",
    "\n",
    "for catf in cat_features:\n",
    "    train_df[catf] = le.fit_transform(train_df[catf]).astype(int)\n",
    "    test_df[catf] = le.fit_transform(test_df[catf]).astype(int)\n",
    "train_df[base_features] = scaler.fit_transform(train_df[base_features])\n",
    "test_df[base_features] = scaler.fit_transform(test_df[base_features])"
   ]
  },
  {
   "cell_type": "code",
   "execution_count": 13,
   "id": "b83bc267-794c-4431-9cf9-decae3d9bc14",
   "metadata": {},
   "outputs": [
    {
     "data": {
      "text/plain": [
       "((2736, 80), (2736,))"
      ]
     },
     "execution_count": 13,
     "metadata": {},
     "output_type": "execute_result"
    }
   ],
   "source": [
    "X, y = train_df.drop(columns='sii'), train_df.sii\n",
    "X.shape, y.shape"
   ]
  },
  {
   "cell_type": "code",
   "execution_count": 23,
   "id": "71682633-e18b-42c7-a61d-0efeb74b565b",
   "metadata": {},
   "outputs": [
    {
     "data": {
      "text/plain": [
       "1.0"
      ]
     },
     "execution_count": 23,
     "metadata": {},
     "output_type": "execute_result"
    }
   ],
   "source": [
    "from sklearn.model_selection import train_test_split\n",
    "X_train, X_test, y_train, y_test = train_test_split(X, y, test_size=.2, stratify=y, random_state=random_state)\n",
    "clf = CatBoostClassifier(verbose=0)\n",
    "clf.fit(X_train, y_train)\n",
    "cohen_kappa_score(y_test, clf.predict(X_test))"
   ]
  },
  {
   "cell_type": "code",
   "execution_count": 19,
   "id": "d84d5713-063a-4cbf-b386-b656ab98af91",
   "metadata": {},
   "outputs": [
    {
     "name": "stdout",
     "output_type": "stream",
     "text": [
      "test_cohen_kappa_score 1.0 0.0\n",
      "test_f1 1.0 0.0\n"
     ]
    }
   ],
   "source": [
    "from catboost import CatBoostClassifier\n",
    "from sklearn.model_selection import StratifiedShuffleSplit, cross_val_score, cross_validate\n",
    "from sklearn.metrics import make_scorer, cohen_kappa_score\n",
    "\n",
    "random_state = 42\n",
    "\n",
    "cv = StratifiedShuffleSplit(n_splits=5, test_size=.2, random_state=random_state)\n",
    "clf = CatBoostClassifier(verbose=0)\n",
    "scoring = {\n",
    "    'cohen_kappa_score': make_scorer(cohen_kappa_score), \n",
    "    'f1': 'f1_macro',\n",
    "}\n",
    "scores = cross_validate(clf, X, y, cv=cv, scoring=scoring)\n",
    "for metric, metrics_scores in scores.items():\n",
    "    if not metric.startswith('test_'): continue\n",
    "    print(metric, metrics_scores.mean(), metrics_scores.std())"
   ]
  },
  {
   "cell_type": "code",
   "execution_count": null,
   "id": "84413640-6292-4936-b012-861f92dd6614",
   "metadata": {},
   "outputs": [],
   "source": []
  },
  {
   "cell_type": "code",
   "execution_count": null,
   "id": "61762f11-99f8-4804-8264-6f5b0f52fc8f",
   "metadata": {},
   "outputs": [],
   "source": []
  }
 ],
 "metadata": {
  "kernelspec": {
   "display_name": "Python 3 (ipykernel)",
   "language": "python",
   "name": "python3"
  },
  "language_info": {
   "codemirror_mode": {
    "name": "ipython",
    "version": 3
   },
   "file_extension": ".py",
   "mimetype": "text/x-python",
   "name": "python",
   "nbconvert_exporter": "python",
   "pygments_lexer": "ipython3",
   "version": "3.12.4"
  }
 },
 "nbformat": 4,
 "nbformat_minor": 5
}
